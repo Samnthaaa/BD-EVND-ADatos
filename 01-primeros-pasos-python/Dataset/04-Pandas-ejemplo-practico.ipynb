{
 "cells": [
  {
   "cell_type": "code",
   "execution_count": null,
   "id": "3e627b1a",
   "metadata": {},
   "outputs": [],
   "source": []
  },
  {
   "cell_type": "markdown",
   "id": "4f7fb931",
   "metadata": {},
   "source": [
    "# EJEMPLO PRACTICO PARA PANDAS CON DATAFRAMES"
   ]
  },
  {
   "cell_type": "markdown",
   "id": "b4a3d7b9",
   "metadata": {},
   "source": [
    "## 1.Inpeccion inicial del DataFrame"
   ]
  },
  {
   "cell_type": "code",
   "execution_count": 27,
   "id": "b89519f0",
   "metadata": {},
   "outputs": [],
   "source": [
    "import pandas as pd"
   ]
  },
  {
   "cell_type": "code",
   "execution_count": 28,
   "id": "072ec04d",
   "metadata": {},
   "outputs": [],
   "source": [
    "#diccionario de listas\n",
    "data = {\n",
    "    'Nombre': ['ana','Luis', 'lucia', 'martha','jorge', 'sofia', 'angel'],\n",
    "    'Edad':[29,27,50,36,56,23,42],\n",
    "    'Ciudad':['monterrey','cdmx', 'guadalajara', 'puebla', 'cdmx','guadalajara', 'cdmx'],\n",
    "    'Salario':[12000,15000,18000,12000,14000,13000,15500],\n",
    "    'Departamento':['ventas', 'TI', 'marketing','ventas','TI','ventas', 'marketing']\n",
    "}"
   ]
  },
  {
   "cell_type": "code",
   "execution_count": 29,
   "id": "3c813f0e",
   "metadata": {},
   "outputs": [
    {
     "data": {
      "text/html": [
       "<div>\n",
       "<style scoped>\n",
       "    .dataframe tbody tr th:only-of-type {\n",
       "        vertical-align: middle;\n",
       "    }\n",
       "\n",
       "    .dataframe tbody tr th {\n",
       "        vertical-align: top;\n",
       "    }\n",
       "\n",
       "    .dataframe thead th {\n",
       "        text-align: right;\n",
       "    }\n",
       "</style>\n",
       "<table border=\"1\" class=\"dataframe\">\n",
       "  <thead>\n",
       "    <tr style=\"text-align: right;\">\n",
       "      <th></th>\n",
       "      <th>Nombre</th>\n",
       "      <th>Edad</th>\n",
       "      <th>Ciudad</th>\n",
       "      <th>Salario</th>\n",
       "      <th>Departamento</th>\n",
       "    </tr>\n",
       "  </thead>\n",
       "  <tbody>\n",
       "    <tr>\n",
       "      <th>0</th>\n",
       "      <td>ana</td>\n",
       "      <td>29</td>\n",
       "      <td>monterrey</td>\n",
       "      <td>12000</td>\n",
       "      <td>ventas</td>\n",
       "    </tr>\n",
       "    <tr>\n",
       "      <th>1</th>\n",
       "      <td>Luis</td>\n",
       "      <td>27</td>\n",
       "      <td>cdmx</td>\n",
       "      <td>15000</td>\n",
       "      <td>TI</td>\n",
       "    </tr>\n",
       "    <tr>\n",
       "      <th>2</th>\n",
       "      <td>lucia</td>\n",
       "      <td>50</td>\n",
       "      <td>guadalajara</td>\n",
       "      <td>18000</td>\n",
       "      <td>marketing</td>\n",
       "    </tr>\n",
       "    <tr>\n",
       "      <th>3</th>\n",
       "      <td>martha</td>\n",
       "      <td>36</td>\n",
       "      <td>puebla</td>\n",
       "      <td>12000</td>\n",
       "      <td>ventas</td>\n",
       "    </tr>\n",
       "    <tr>\n",
       "      <th>4</th>\n",
       "      <td>jorge</td>\n",
       "      <td>56</td>\n",
       "      <td>cdmx</td>\n",
       "      <td>14000</td>\n",
       "      <td>TI</td>\n",
       "    </tr>\n",
       "    <tr>\n",
       "      <th>5</th>\n",
       "      <td>sofia</td>\n",
       "      <td>23</td>\n",
       "      <td>guadalajara</td>\n",
       "      <td>13000</td>\n",
       "      <td>ventas</td>\n",
       "    </tr>\n",
       "    <tr>\n",
       "      <th>6</th>\n",
       "      <td>angel</td>\n",
       "      <td>42</td>\n",
       "      <td>cdmx</td>\n",
       "      <td>15500</td>\n",
       "      <td>marketing</td>\n",
       "    </tr>\n",
       "  </tbody>\n",
       "</table>\n",
       "</div>"
      ],
      "text/plain": [
       "   Nombre  Edad       Ciudad  Salario Departamento\n",
       "0     ana    29    monterrey    12000       ventas\n",
       "1    Luis    27         cdmx    15000           TI\n",
       "2   lucia    50  guadalajara    18000    marketing\n",
       "3  martha    36       puebla    12000       ventas\n",
       "4   jorge    56         cdmx    14000           TI\n",
       "5   sofia    23  guadalajara    13000       ventas\n",
       "6   angel    42         cdmx    15500    marketing"
      ]
     },
     "execution_count": 29,
     "metadata": {},
     "output_type": "execute_result"
    }
   ],
   "source": [
    "#crear data frame\n",
    "df = pd.DataFrame(data)\n",
    "df"
   ]
  },
  {
   "cell_type": "markdown",
   "id": "3068a0f5",
   "metadata": {},
   "source": [
    "# 2.Estuctura data frame"
   ]
  },
  {
   "cell_type": "code",
   "execution_count": 30,
   "id": "8b7983fa",
   "metadata": {},
   "outputs": [
    {
     "name": "stdout",
     "output_type": "stream",
     "text": [
      "<class 'pandas.core.frame.DataFrame'>\n",
      "RangeIndex: 7 entries, 0 to 6\n",
      "Data columns (total 5 columns):\n",
      " #   Column        Non-Null Count  Dtype \n",
      "---  ------        --------------  ----- \n",
      " 0   Nombre        7 non-null      object\n",
      " 1   Edad          7 non-null      int64 \n",
      " 2   Ciudad        7 non-null      object\n",
      " 3   Salario       7 non-null      int64 \n",
      " 4   Departamento  7 non-null      object\n",
      "dtypes: int64(2), object(3)\n",
      "memory usage: 412.0+ bytes\n"
     ]
    }
   ],
   "source": [
    "df.info()"
   ]
  },
  {
   "cell_type": "code",
   "execution_count": 31,
   "id": "cd2052bc",
   "metadata": {},
   "outputs": [
    {
     "data": {
      "text/html": [
       "<div>\n",
       "<style scoped>\n",
       "    .dataframe tbody tr th:only-of-type {\n",
       "        vertical-align: middle;\n",
       "    }\n",
       "\n",
       "    .dataframe tbody tr th {\n",
       "        vertical-align: top;\n",
       "    }\n",
       "\n",
       "    .dataframe thead th {\n",
       "        text-align: right;\n",
       "    }\n",
       "</style>\n",
       "<table border=\"1\" class=\"dataframe\">\n",
       "  <thead>\n",
       "    <tr style=\"text-align: right;\">\n",
       "      <th></th>\n",
       "      <th>Edad</th>\n",
       "      <th>Salario</th>\n",
       "    </tr>\n",
       "  </thead>\n",
       "  <tbody>\n",
       "    <tr>\n",
       "      <th>count</th>\n",
       "      <td>7.000000</td>\n",
       "      <td>7.000000</td>\n",
       "    </tr>\n",
       "    <tr>\n",
       "      <th>mean</th>\n",
       "      <td>37.571429</td>\n",
       "      <td>14214.285714</td>\n",
       "    </tr>\n",
       "    <tr>\n",
       "      <th>std</th>\n",
       "      <td>12.340410</td>\n",
       "      <td>2157.489723</td>\n",
       "    </tr>\n",
       "    <tr>\n",
       "      <th>min</th>\n",
       "      <td>23.000000</td>\n",
       "      <td>12000.000000</td>\n",
       "    </tr>\n",
       "    <tr>\n",
       "      <th>25%</th>\n",
       "      <td>28.000000</td>\n",
       "      <td>12500.000000</td>\n",
       "    </tr>\n",
       "    <tr>\n",
       "      <th>50%</th>\n",
       "      <td>36.000000</td>\n",
       "      <td>14000.000000</td>\n",
       "    </tr>\n",
       "    <tr>\n",
       "      <th>75%</th>\n",
       "      <td>46.000000</td>\n",
       "      <td>15250.000000</td>\n",
       "    </tr>\n",
       "    <tr>\n",
       "      <th>max</th>\n",
       "      <td>56.000000</td>\n",
       "      <td>18000.000000</td>\n",
       "    </tr>\n",
       "  </tbody>\n",
       "</table>\n",
       "</div>"
      ],
      "text/plain": [
       "            Edad       Salario\n",
       "count   7.000000      7.000000\n",
       "mean   37.571429  14214.285714\n",
       "std    12.340410   2157.489723\n",
       "min    23.000000  12000.000000\n",
       "25%    28.000000  12500.000000\n",
       "50%    36.000000  14000.000000\n",
       "75%    46.000000  15250.000000\n",
       "max    56.000000  18000.000000"
      ]
     },
     "execution_count": 31,
     "metadata": {},
     "output_type": "execute_result"
    }
   ],
   "source": [
    "#mustra el tamanio del dataframe\n",
    "df.describe()"
   ]
  },
  {
   "cell_type": "code",
   "execution_count": 32,
   "id": "d0a00710",
   "metadata": {},
   "outputs": [
    {
     "data": {
      "text/plain": [
       "Index(['Nombre', 'Edad', 'Ciudad', 'Salario', 'Departamento'], dtype='object')"
      ]
     },
     "execution_count": 32,
     "metadata": {},
     "output_type": "execute_result"
    }
   ],
   "source": [
    "#mustra el nombre de las columnas\n",
    "df.columns"
   ]
  },
  {
   "cell_type": "code",
   "execution_count": 33,
   "id": "1effe7ac",
   "metadata": {},
   "outputs": [
    {
     "data": {
      "text/plain": [
       "Nombre          object\n",
       "Edad             int64\n",
       "Ciudad          object\n",
       "Salario          int64\n",
       "Departamento    object\n",
       "dtype: object"
      ]
     },
     "execution_count": 33,
     "metadata": {},
     "output_type": "execute_result"
    }
   ],
   "source": [
    "#muestra valores de columnas\n",
    "df.dtypes"
   ]
  },
  {
   "cell_type": "markdown",
   "id": "093b3da7",
   "metadata": {},
   "source": [
    "# Seleccion de columnas y filas"
   ]
  },
  {
   "cell_type": "code",
   "execution_count": 35,
   "id": "43d58bb9",
   "metadata": {},
   "outputs": [
    {
     "data": {
      "text/plain": [
       "0    29\n",
       "1    27\n",
       "2    50\n",
       "3    36\n",
       "4    56\n",
       "5    23\n",
       "6    42\n",
       "Name: Edad, dtype: int64"
      ]
     },
     "execution_count": 35,
     "metadata": {},
     "output_type": "execute_result"
    }
   ],
   "source": [
    "df['Edad']"
   ]
  },
  {
   "cell_type": "code",
   "execution_count": 36,
   "id": "94c1b570",
   "metadata": {},
   "outputs": [
    {
     "data": {
      "text/plain": [
       "pandas.core.frame.DataFrame"
      ]
     },
     "execution_count": 36,
     "metadata": {},
     "output_type": "execute_result"
    }
   ],
   "source": [
    "type(df[['Edad']])"
   ]
  },
  {
   "cell_type": "markdown",
   "id": "6fc13d90",
   "metadata": {},
   "source": [
    "# 4.Filtrado de filas"
   ]
  },
  {
   "cell_type": "code",
   "execution_count": 39,
   "id": "88af0022",
   "metadata": {},
   "outputs": [
    {
     "data": {
      "text/plain": [
       "0    False\n",
       "1     True\n",
       "2    False\n",
       "3    False\n",
       "4     True\n",
       "5    False\n",
       "6     True\n",
       "Name: Ciudad, dtype: bool"
      ]
     },
     "execution_count": 39,
     "metadata": {},
     "output_type": "execute_result"
    }
   ],
   "source": [
    "#FILTRAR LAS FILAS QUE LA CIUDAD SEA CDMX\n",
    "df['Ciudad'] == 'cdmx'"
   ]
  },
  {
   "cell_type": "code",
   "execution_count": 44,
   "id": "35eb0eb8",
   "metadata": {},
   "outputs": [],
   "source": [
    "df_cdmx = df[df['Ciudad'] == 'cdmx']"
   ]
  },
  {
   "cell_type": "code",
   "execution_count": 45,
   "id": "db176794",
   "metadata": {},
   "outputs": [
    {
     "data": {
      "text/html": [
       "<div>\n",
       "<style scoped>\n",
       "    .dataframe tbody tr th:only-of-type {\n",
       "        vertical-align: middle;\n",
       "    }\n",
       "\n",
       "    .dataframe tbody tr th {\n",
       "        vertical-align: top;\n",
       "    }\n",
       "\n",
       "    .dataframe thead th {\n",
       "        text-align: right;\n",
       "    }\n",
       "</style>\n",
       "<table border=\"1\" class=\"dataframe\">\n",
       "  <thead>\n",
       "    <tr style=\"text-align: right;\">\n",
       "      <th></th>\n",
       "      <th>Nombre</th>\n",
       "      <th>Ciudad</th>\n",
       "      <th>Salario</th>\n",
       "    </tr>\n",
       "  </thead>\n",
       "  <tbody>\n",
       "    <tr>\n",
       "      <th>1</th>\n",
       "      <td>Luis</td>\n",
       "      <td>cdmx</td>\n",
       "      <td>15000</td>\n",
       "    </tr>\n",
       "    <tr>\n",
       "      <th>4</th>\n",
       "      <td>jorge</td>\n",
       "      <td>cdmx</td>\n",
       "      <td>14000</td>\n",
       "    </tr>\n",
       "    <tr>\n",
       "      <th>6</th>\n",
       "      <td>angel</td>\n",
       "      <td>cdmx</td>\n",
       "      <td>15500</td>\n",
       "    </tr>\n",
       "  </tbody>\n",
       "</table>\n",
       "</div>"
      ],
      "text/plain": [
       "  Nombre Ciudad  Salario\n",
       "1   Luis   cdmx    15000\n",
       "4  jorge   cdmx    14000\n",
       "6  angel   cdmx    15500"
      ]
     },
     "execution_count": 45,
     "metadata": {},
     "output_type": "execute_result"
    }
   ],
   "source": [
    "df_cdmx[['Nombre','Ciudad','Salario']]"
   ]
  },
  {
   "cell_type": "code",
   "execution_count": 49,
   "id": "6c96b13f",
   "metadata": {},
   "outputs": [
    {
     "data": {
      "text/html": [
       "<div>\n",
       "<style scoped>\n",
       "    .dataframe tbody tr th:only-of-type {\n",
       "        vertical-align: middle;\n",
       "    }\n",
       "\n",
       "    .dataframe tbody tr th {\n",
       "        vertical-align: top;\n",
       "    }\n",
       "\n",
       "    .dataframe thead th {\n",
       "        text-align: right;\n",
       "    }\n",
       "</style>\n",
       "<table border=\"1\" class=\"dataframe\">\n",
       "  <thead>\n",
       "    <tr style=\"text-align: right;\">\n",
       "      <th></th>\n",
       "      <th>Nombre</th>\n",
       "      <th>Edad</th>\n",
       "      <th>Ciudad</th>\n",
       "      <th>Salario</th>\n",
       "      <th>Departamento</th>\n",
       "    </tr>\n",
       "  </thead>\n",
       "  <tbody>\n",
       "    <tr>\n",
       "      <th>1</th>\n",
       "      <td>Luis</td>\n",
       "      <td>27</td>\n",
       "      <td>cdmx</td>\n",
       "      <td>15000</td>\n",
       "      <td>TI</td>\n",
       "    </tr>\n",
       "    <tr>\n",
       "      <th>4</th>\n",
       "      <td>jorge</td>\n",
       "      <td>56</td>\n",
       "      <td>cdmx</td>\n",
       "      <td>14000</td>\n",
       "      <td>TI</td>\n",
       "    </tr>\n",
       "  </tbody>\n",
       "</table>\n",
       "</div>"
      ],
      "text/plain": [
       "  Nombre  Edad Ciudad  Salario Departamento\n",
       "1   Luis    27   cdmx    15000           TI\n",
       "4  jorge    56   cdmx    14000           TI"
      ]
     },
     "execution_count": 49,
     "metadata": {},
     "output_type": "execute_result"
    }
   ],
   "source": [
    "#mostrar todas las filas de la ciudad de mexico y del departamento de ti\n",
    "df[(df['Ciudad'] == 'cdmx') & (df['Departamento'] == 'TI')]"
   ]
  },
  {
   "cell_type": "code",
   "execution_count": 50,
   "id": "85f1b506",
   "metadata": {},
   "outputs": [
    {
     "data": {
      "text/html": [
       "<div>\n",
       "<style scoped>\n",
       "    .dataframe tbody tr th:only-of-type {\n",
       "        vertical-align: middle;\n",
       "    }\n",
       "\n",
       "    .dataframe tbody tr th {\n",
       "        vertical-align: top;\n",
       "    }\n",
       "\n",
       "    .dataframe thead th {\n",
       "        text-align: right;\n",
       "    }\n",
       "</style>\n",
       "<table border=\"1\" class=\"dataframe\">\n",
       "  <thead>\n",
       "    <tr style=\"text-align: right;\">\n",
       "      <th></th>\n",
       "      <th>Nombre</th>\n",
       "      <th>Edad</th>\n",
       "      <th>Ciudad</th>\n",
       "      <th>Salario</th>\n",
       "      <th>Departamento</th>\n",
       "    </tr>\n",
       "  </thead>\n",
       "  <tbody>\n",
       "    <tr>\n",
       "      <th>1</th>\n",
       "      <td>Luis</td>\n",
       "      <td>27</td>\n",
       "      <td>cdmx</td>\n",
       "      <td>15000</td>\n",
       "      <td>TI</td>\n",
       "    </tr>\n",
       "    <tr>\n",
       "      <th>4</th>\n",
       "      <td>jorge</td>\n",
       "      <td>56</td>\n",
       "      <td>cdmx</td>\n",
       "      <td>14000</td>\n",
       "      <td>TI</td>\n",
       "    </tr>\n",
       "    <tr>\n",
       "      <th>6</th>\n",
       "      <td>angel</td>\n",
       "      <td>42</td>\n",
       "      <td>cdmx</td>\n",
       "      <td>15500</td>\n",
       "      <td>marketing</td>\n",
       "    </tr>\n",
       "  </tbody>\n",
       "</table>\n",
       "</div>"
      ],
      "text/plain": [
       "  Nombre  Edad Ciudad  Salario Departamento\n",
       "1   Luis    27   cdmx    15000           TI\n",
       "4  jorge    56   cdmx    14000           TI\n",
       "6  angel    42   cdmx    15500    marketing"
      ]
     },
     "execution_count": 50,
     "metadata": {},
     "output_type": "execute_result"
    }
   ],
   "source": [
    "df[(df['Ciudad'] == 'cdmx') | (df['Departamento'] == 'TI')]"
   ]
  },
  {
   "cell_type": "markdown",
   "id": "5d7e7740",
   "metadata": {},
   "source": [
    "# 5.Ordenar filas"
   ]
  },
  {
   "cell_type": "code",
   "execution_count": 60,
   "id": "091371a0",
   "metadata": {},
   "outputs": [
    {
     "data": {
      "text/html": [
       "<div>\n",
       "<style scoped>\n",
       "    .dataframe tbody tr th:only-of-type {\n",
       "        vertical-align: middle;\n",
       "    }\n",
       "\n",
       "    .dataframe tbody tr th {\n",
       "        vertical-align: top;\n",
       "    }\n",
       "\n",
       "    .dataframe thead th {\n",
       "        text-align: right;\n",
       "    }\n",
       "</style>\n",
       "<table border=\"1\" class=\"dataframe\">\n",
       "  <thead>\n",
       "    <tr style=\"text-align: right;\">\n",
       "      <th></th>\n",
       "      <th>Nombre</th>\n",
       "      <th>Edad</th>\n",
       "      <th>Ciudad</th>\n",
       "      <th>Salario</th>\n",
       "      <th>Departamento</th>\n",
       "    </tr>\n",
       "  </thead>\n",
       "  <tbody>\n",
       "    <tr>\n",
       "      <th>2</th>\n",
       "      <td>lucia</td>\n",
       "      <td>50</td>\n",
       "      <td>guadalajara</td>\n",
       "      <td>18000</td>\n",
       "      <td>marketing</td>\n",
       "    </tr>\n",
       "    <tr>\n",
       "      <th>6</th>\n",
       "      <td>angel</td>\n",
       "      <td>42</td>\n",
       "      <td>cdmx</td>\n",
       "      <td>15500</td>\n",
       "      <td>marketing</td>\n",
       "    </tr>\n",
       "    <tr>\n",
       "      <th>1</th>\n",
       "      <td>Luis</td>\n",
       "      <td>27</td>\n",
       "      <td>cdmx</td>\n",
       "      <td>15000</td>\n",
       "      <td>TI</td>\n",
       "    </tr>\n",
       "    <tr>\n",
       "      <th>4</th>\n",
       "      <td>jorge</td>\n",
       "      <td>56</td>\n",
       "      <td>cdmx</td>\n",
       "      <td>14000</td>\n",
       "      <td>TI</td>\n",
       "    </tr>\n",
       "    <tr>\n",
       "      <th>5</th>\n",
       "      <td>sofia</td>\n",
       "      <td>23</td>\n",
       "      <td>guadalajara</td>\n",
       "      <td>13000</td>\n",
       "      <td>ventas</td>\n",
       "    </tr>\n",
       "    <tr>\n",
       "      <th>0</th>\n",
       "      <td>ana</td>\n",
       "      <td>29</td>\n",
       "      <td>monterrey</td>\n",
       "      <td>12000</td>\n",
       "      <td>ventas</td>\n",
       "    </tr>\n",
       "    <tr>\n",
       "      <th>3</th>\n",
       "      <td>martha</td>\n",
       "      <td>36</td>\n",
       "      <td>puebla</td>\n",
       "      <td>12000</td>\n",
       "      <td>ventas</td>\n",
       "    </tr>\n",
       "  </tbody>\n",
       "</table>\n",
       "</div>"
      ],
      "text/plain": [
       "   Nombre  Edad       Ciudad  Salario Departamento\n",
       "2   lucia    50  guadalajara    18000    marketing\n",
       "6   angel    42         cdmx    15500    marketing\n",
       "1    Luis    27         cdmx    15000           TI\n",
       "4   jorge    56         cdmx    14000           TI\n",
       "5   sofia    23  guadalajara    13000       ventas\n",
       "0     ana    29    monterrey    12000       ventas\n",
       "3  martha    36       puebla    12000       ventas"
      ]
     },
     "execution_count": 60,
     "metadata": {},
     "output_type": "execute_result"
    }
   ],
   "source": [
    "#Ordena por salario de forma Descendente(Z-A, 9-0)\n",
    "df.sort_values(by='Salario', ascending=False)"
   ]
  },
  {
   "cell_type": "code",
   "execution_count": 59,
   "id": "6f5aa701",
   "metadata": {},
   "outputs": [
    {
     "data": {
      "text/html": [
       "<div>\n",
       "<style scoped>\n",
       "    .dataframe tbody tr th:only-of-type {\n",
       "        vertical-align: middle;\n",
       "    }\n",
       "\n",
       "    .dataframe tbody tr th {\n",
       "        vertical-align: top;\n",
       "    }\n",
       "\n",
       "    .dataframe thead th {\n",
       "        text-align: right;\n",
       "    }\n",
       "</style>\n",
       "<table border=\"1\" class=\"dataframe\">\n",
       "  <thead>\n",
       "    <tr style=\"text-align: right;\">\n",
       "      <th></th>\n",
       "      <th>Nombre</th>\n",
       "      <th>Edad</th>\n",
       "      <th>Ciudad</th>\n",
       "      <th>Salario</th>\n",
       "      <th>Departamento</th>\n",
       "    </tr>\n",
       "  </thead>\n",
       "  <tbody>\n",
       "    <tr>\n",
       "      <th>0</th>\n",
       "      <td>ana</td>\n",
       "      <td>29</td>\n",
       "      <td>monterrey</td>\n",
       "      <td>12000</td>\n",
       "      <td>ventas</td>\n",
       "    </tr>\n",
       "    <tr>\n",
       "      <th>3</th>\n",
       "      <td>martha</td>\n",
       "      <td>36</td>\n",
       "      <td>puebla</td>\n",
       "      <td>12000</td>\n",
       "      <td>ventas</td>\n",
       "    </tr>\n",
       "    <tr>\n",
       "      <th>5</th>\n",
       "      <td>sofia</td>\n",
       "      <td>23</td>\n",
       "      <td>guadalajara</td>\n",
       "      <td>13000</td>\n",
       "      <td>ventas</td>\n",
       "    </tr>\n",
       "    <tr>\n",
       "      <th>4</th>\n",
       "      <td>jorge</td>\n",
       "      <td>56</td>\n",
       "      <td>cdmx</td>\n",
       "      <td>14000</td>\n",
       "      <td>TI</td>\n",
       "    </tr>\n",
       "    <tr>\n",
       "      <th>1</th>\n",
       "      <td>Luis</td>\n",
       "      <td>27</td>\n",
       "      <td>cdmx</td>\n",
       "      <td>15000</td>\n",
       "      <td>TI</td>\n",
       "    </tr>\n",
       "    <tr>\n",
       "      <th>6</th>\n",
       "      <td>angel</td>\n",
       "      <td>42</td>\n",
       "      <td>cdmx</td>\n",
       "      <td>15500</td>\n",
       "      <td>marketing</td>\n",
       "    </tr>\n",
       "    <tr>\n",
       "      <th>2</th>\n",
       "      <td>lucia</td>\n",
       "      <td>50</td>\n",
       "      <td>guadalajara</td>\n",
       "      <td>18000</td>\n",
       "      <td>marketing</td>\n",
       "    </tr>\n",
       "  </tbody>\n",
       "</table>\n",
       "</div>"
      ],
      "text/plain": [
       "   Nombre  Edad       Ciudad  Salario Departamento\n",
       "0     ana    29    monterrey    12000       ventas\n",
       "3  martha    36       puebla    12000       ventas\n",
       "5   sofia    23  guadalajara    13000       ventas\n",
       "4   jorge    56         cdmx    14000           TI\n",
       "1    Luis    27         cdmx    15000           TI\n",
       "6   angel    42         cdmx    15500    marketing\n",
       "2   lucia    50  guadalajara    18000    marketing"
      ]
     },
     "execution_count": 59,
     "metadata": {},
     "output_type": "execute_result"
    }
   ],
   "source": [
    "#Ordena por salario de forma ascendente(A-Z, 0-9)\n",
    "df.sort_values(by='Salario', ascending=True)"
   ]
  },
  {
   "cell_type": "code",
   "execution_count": 58,
   "id": "9393f744",
   "metadata": {},
   "outputs": [
    {
     "data": {
      "text/html": [
       "<div>\n",
       "<style scoped>\n",
       "    .dataframe tbody tr th:only-of-type {\n",
       "        vertical-align: middle;\n",
       "    }\n",
       "\n",
       "    .dataframe tbody tr th {\n",
       "        vertical-align: top;\n",
       "    }\n",
       "\n",
       "    .dataframe thead th {\n",
       "        text-align: right;\n",
       "    }\n",
       "</style>\n",
       "<table border=\"1\" class=\"dataframe\">\n",
       "  <thead>\n",
       "    <tr style=\"text-align: right;\">\n",
       "      <th></th>\n",
       "      <th>Nombre</th>\n",
       "      <th>Edad</th>\n",
       "      <th>Ciudad</th>\n",
       "      <th>Salario</th>\n",
       "      <th>Departamento</th>\n",
       "    </tr>\n",
       "  </thead>\n",
       "  <tbody>\n",
       "    <tr>\n",
       "      <th>4</th>\n",
       "      <td>jorge</td>\n",
       "      <td>56</td>\n",
       "      <td>cdmx</td>\n",
       "      <td>14000</td>\n",
       "      <td>TI</td>\n",
       "    </tr>\n",
       "    <tr>\n",
       "      <th>1</th>\n",
       "      <td>Luis</td>\n",
       "      <td>27</td>\n",
       "      <td>cdmx</td>\n",
       "      <td>15000</td>\n",
       "      <td>TI</td>\n",
       "    </tr>\n",
       "    <tr>\n",
       "      <th>6</th>\n",
       "      <td>angel</td>\n",
       "      <td>42</td>\n",
       "      <td>cdmx</td>\n",
       "      <td>15500</td>\n",
       "      <td>marketing</td>\n",
       "    </tr>\n",
       "    <tr>\n",
       "      <th>5</th>\n",
       "      <td>sofia</td>\n",
       "      <td>23</td>\n",
       "      <td>guadalajara</td>\n",
       "      <td>13000</td>\n",
       "      <td>ventas</td>\n",
       "    </tr>\n",
       "    <tr>\n",
       "      <th>2</th>\n",
       "      <td>lucia</td>\n",
       "      <td>50</td>\n",
       "      <td>guadalajara</td>\n",
       "      <td>18000</td>\n",
       "      <td>marketing</td>\n",
       "    </tr>\n",
       "    <tr>\n",
       "      <th>0</th>\n",
       "      <td>ana</td>\n",
       "      <td>29</td>\n",
       "      <td>monterrey</td>\n",
       "      <td>12000</td>\n",
       "      <td>ventas</td>\n",
       "    </tr>\n",
       "    <tr>\n",
       "      <th>3</th>\n",
       "      <td>martha</td>\n",
       "      <td>36</td>\n",
       "      <td>puebla</td>\n",
       "      <td>12000</td>\n",
       "      <td>ventas</td>\n",
       "    </tr>\n",
       "  </tbody>\n",
       "</table>\n",
       "</div>"
      ],
      "text/plain": [
       "   Nombre  Edad       Ciudad  Salario Departamento\n",
       "4   jorge    56         cdmx    14000           TI\n",
       "1    Luis    27         cdmx    15000           TI\n",
       "6   angel    42         cdmx    15500    marketing\n",
       "5   sofia    23  guadalajara    13000       ventas\n",
       "2   lucia    50  guadalajara    18000    marketing\n",
       "0     ana    29    monterrey    12000       ventas\n",
       "3  martha    36       puebla    12000       ventas"
      ]
     },
     "execution_count": 58,
     "metadata": {},
     "output_type": "execute_result"
    }
   ],
   "source": [
    "df.sort_values(by=['Ciudad', 'Salario'])"
   ]
  },
  {
   "cell_type": "code",
   "execution_count": 62,
   "id": "80870f09",
   "metadata": {},
   "outputs": [],
   "source": [
    "df['SalarioAnual'] = df['Salario'] * 12"
   ]
  }
 ],
 "metadata": {
  "kernelspec": {
   "display_name": "base",
   "language": "python",
   "name": "python3"
  },
  "language_info": {
   "codemirror_mode": {
    "name": "ipython",
    "version": 3
   },
   "file_extension": ".py",
   "mimetype": "text/x-python",
   "name": "python",
   "nbconvert_exporter": "python",
   "pygments_lexer": "ipython3",
   "version": "3.12.8"
  }
 },
 "nbformat": 4,
 "nbformat_minor": 5
}
