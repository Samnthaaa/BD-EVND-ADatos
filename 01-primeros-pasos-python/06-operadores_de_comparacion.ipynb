{
 "cells": [
  {
   "cell_type": "markdown",
   "id": "066156ab",
   "metadata": {},
   "source": [
    "## Operadores de Comparacion\n",
    "\n",
    "### Objetivos\n",
    "\n",
    "- conocer el funcionamiento de los operadores de comparacion usando int, floats y strings\n"
   ]
  },
  {
   "cell_type": "code",
   "execution_count": 9,
   "id": "7548da5d",
   "metadata": {},
   "outputs": [],
   "source": [
    "var_1 = 34\n",
    "var_2 = 12\n",
    "var_3 = 23.24\n",
    "var_4 = 23.56\n",
    "var_5 = 'OK'\n",
    "var_6 = \"ERROR\"\n",
    "var_7 = True\n",
    "var_8 = False"
   ]
  },
  {
   "cell_type": "markdown",
   "id": "f1aeebf9",
   "metadata": {},
   "source": [
    "Ahora vamos a realizar algunas comparaciones para ver como funciona los operadores relacionales"
   ]
  },
  {
   "cell_type": "code",
   "execution_count": 3,
   "id": "451333ba",
   "metadata": {},
   "outputs": [
    {
     "data": {
      "text/plain": [
       "True"
      ]
     },
     "execution_count": 3,
     "metadata": {},
     "output_type": "execute_result"
    }
   ],
   "source": [
    "var_1 > var_2"
   ]
  },
  {
   "cell_type": "code",
   "execution_count": 4,
   "id": "0a946049",
   "metadata": {},
   "outputs": [
    {
     "data": {
      "text/plain": [
       "False"
      ]
     },
     "execution_count": 4,
     "metadata": {},
     "output_type": "execute_result"
    }
   ],
   "source": [
    "var_1 < var_2"
   ]
  },
  {
   "cell_type": "code",
   "execution_count": 10,
   "id": "2b9938c2",
   "metadata": {},
   "outputs": [
    {
     "data": {
      "text/plain": [
       "False"
      ]
     },
     "execution_count": 10,
     "metadata": {},
     "output_type": "execute_result"
    }
   ],
   "source": [
    "var_3 < var_4\n",
    "var_3 <= var_3\n",
    "var_1 >= var_4\n",
    "var_5 == var_6\n",
    "True == False\n",
    "True > False\n",
    "True < False"
   ]
  }
 ],
 "metadata": {
  "kernelspec": {
   "display_name": "base",
   "language": "python",
   "name": "python3"
  },
  "language_info": {
   "codemirror_mode": {
    "name": "ipython",
    "version": 3
   },
   "file_extension": ".py",
   "mimetype": "text/x-python",
   "name": "python",
   "nbconvert_exporter": "python",
   "pygments_lexer": "ipython3",
   "version": "3.12.8"
  }
 },
 "nbformat": 4,
 "nbformat_minor": 5
}
