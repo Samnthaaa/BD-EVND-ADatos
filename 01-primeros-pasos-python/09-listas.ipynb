{
 "cells": [
  {
   "cell_type": "markdown",
   "id": "d0344fd9",
   "metadata": {},
   "source": [
    "# Listas\n",
    "\n",
    "1.Objetivos\n",
    "- Entender la sintaxis de las listas en python\n",
    "- Aprender a crear listas y accesarlas\n",
    "\n",
    "---\n",
    "2.Desarrollo:\n",
    "\n",
    "\n",
    "- Creando listas y accediendo a ellas\n",
    " las listas son secuencias ordenadas.El orden de los datos en la lista es el mismo orden que tienen oos datos a la hora de ser asignados.Una lista se ve asi"
   ]
  },
  {
   "cell_type": "code",
   "execution_count": 1,
   "id": "50c30e75",
   "metadata": {},
   "outputs": [
    {
     "data": {
      "text/plain": [
       "[1, 4, 6, 2, 4]"
      ]
     },
     "execution_count": 1,
     "metadata": {},
     "output_type": "execute_result"
    }
   ],
   "source": [
    "lista_1 = [1, 4, 6, 2, 4]\n",
    "lista_1"
   ]
  },
  {
   "cell_type": "code",
   "execution_count": 2,
   "id": "edd57357",
   "metadata": {},
   "outputs": [
    {
     "data": {
      "text/plain": [
       "list"
      ]
     },
     "execution_count": 2,
     "metadata": {},
     "output_type": "execute_result"
    }
   ],
   "source": [
    "type(lista_1)"
   ]
  },
  {
   "cell_type": "markdown",
   "id": "59a01db7",
   "metadata": {},
   "source": [
    "Cada elemento dela lista tiene un indice , que se utiliza para acceder a dicho elemento. Dado que las listas son ordenadas, los inidces se van a asignando secuencialmete desde e primer elemntos hasta el ultimo indice es siempre `n-1`, donde `n` es el numero total de elementos  en la lista"
   ]
  },
  {
   "cell_type": "code",
   "execution_count": 3,
   "id": "18f1fe53",
   "metadata": {},
   "outputs": [
    {
     "name": "stdout",
     "output_type": "stream",
     "text": [
      "Pimer Elemento de la lista: 1\n",
      "Ultimo Elemento de la lista: 4\n"
     ]
    }
   ],
   "source": [
    "#imprimir el primer elemento de la lista\n",
    "print(f'Pimer Elemento de la lista: {lista_1[0]}')\n",
    "print(f'Ultimo Elemento de la lista: {lista_1[4]}')"
   ]
  },
  {
   "cell_type": "code",
   "execution_count": 5,
   "id": "75361647",
   "metadata": {},
   "outputs": [
    {
     "ename": "NameError",
     "evalue": "name 'lista_1' is not defined",
     "output_type": "error",
     "traceback": [
      "\u001b[1;31m---------------------------------------------------------------------------\u001b[0m",
      "\u001b[1;31mNameError\u001b[0m                                 Traceback (most recent call last)",
      "Cell \u001b[1;32mIn[5], line 1\u001b[0m\n\u001b[1;32m----> 1\u001b[0m \u001b[43mlista_1\u001b[49m[\u001b[38;5;241m2\u001b[39m]\n",
      "\u001b[1;31mNameError\u001b[0m: name 'lista_1' is not defined"
     ]
    }
   ],
   "source": [
    "lista_1[2]"
   ]
  },
  {
   "cell_type": "code",
   "execution_count": 2,
   "id": "2d9d3975",
   "metadata": {},
   "outputs": [
    {
     "name": "stdout",
     "output_type": "stream",
     "text": [
      "Contenido de la lista: [10, 5, 7, 2, 1]\n"
     ]
    }
   ],
   "source": [
    "numbers = [10, 5, 7, 2, 1]\n",
    "\n",
    "#imprimir el contenido la lista\n",
    "print(f'Contenido de la lista: {numbers}')"
   ]
  },
  {
   "cell_type": "code",
   "execution_count": null,
   "id": "ca001594",
   "metadata": {},
   "outputs": [
    {
     "data": {
      "text/plain": [
       "2"
      ]
     },
     "execution_count": 3,
     "metadata": {},
     "output_type": "execute_result"
    }
   ],
   "source": [
    "#Permite accesar al valor que se encuentra en la posicon\n",
    "numbers[3]"
   ]
  },
  {
   "cell_type": "markdown",
   "id": "17de8c43",
   "metadata": {},
   "source": [
    "Vamos agregar un nuevo valor 111 al primer elemento en la lista, Lo hacemos de la sigueinte manera....."
   ]
  },
  {
   "cell_type": "code",
   "execution_count": null,
   "id": "fad9cb12",
   "metadata": {},
   "outputs": [
    {
     "name": "stdout",
     "output_type": "stream",
     "text": [
      "[111, 5, 7, 2, 1]\n"
     ]
    }
   ],
   "source": [
    "\n",
    "numbers[0] = 111\n",
    "print(numbers)"
   ]
  },
  {
   "cell_type": "code",
   "execution_count": null,
   "id": "21bb1cf5",
   "metadata": {},
   "outputs": [
    {
     "name": "stdout",
     "output_type": "stream",
     "text": [
      "[111, 1, 7, 2, 1]\n"
     ]
    }
   ],
   "source": [
    "#copiar el valor del quinto elemento al segundo\n",
    "numbers[1] = numbers[4] \n",
    "print(numbers)"
   ]
  },
  {
   "cell_type": "code",
   "execution_count": null,
   "id": "f5d76163",
   "metadata": {},
   "outputs": [
    {
     "name": "stdout",
     "output_type": "stream",
     "text": [
      "111\n"
     ]
    }
   ],
   "source": [
    "#Accesar con numeros negativos\n",
    "print(numbers [-5])"
   ]
  },
  {
   "cell_type": "markdown",
   "id": "be8971a3",
   "metadata": {},
   "source": [
    "# Eliminando elementos de la lista\n",
    "Cualquier elemento de la lista puede ser eliminado en cualquier momento - esto se hace con una instrucción llamada `del` (eliminar). Nota: es una instrucción, no una función.\n",
    "Tienes que apuntar al elemento que quieres eliminar - desaparecerá de la lista y la longitud de la lista se reducirá en uno."
   ]
  },
  {
   "cell_type": "code",
   "execution_count": 10,
   "id": "447b240b",
   "metadata": {},
   "outputs": [
    {
     "name": "stdout",
     "output_type": "stream",
     "text": [
      "La lista actual es: [111, 1, 7, 2, 1]\n"
     ]
    }
   ],
   "source": [
    "#Eliminar posiciones\n",
    "print(f'La lista actual es: {numbers}')\n",
    "del numbers[2]"
   ]
  },
  {
   "cell_type": "code",
   "execution_count": 12,
   "id": "b4f11074",
   "metadata": {},
   "outputs": [
    {
     "name": "stdout",
     "output_type": "stream",
     "text": [
      "[111, 1, 2, 1]\n",
      "4\n"
     ]
    }
   ],
   "source": [
    "print(numbers)\n",
    "print(len(numbers))"
   ]
  },
  {
   "cell_type": "code",
   "execution_count": 13,
   "id": "79dcd40e",
   "metadata": {},
   "outputs": [
    {
     "name": "stdout",
     "output_type": "stream",
     "text": [
      "La lista astual es: [111, 1, 2, 1]\n",
      "El tamaño d ela lsita es 4\n"
     ]
    }
   ],
   "source": [
    "print(f'La lista astual es: {numbers}')\n",
    "print(f'El tamaño d ela lsita es {len(numbers)}')"
   ]
  },
  {
   "cell_type": "code",
   "execution_count": 14,
   "id": "0724eeaf",
   "metadata": {},
   "outputs": [
    {
     "name": "stdout",
     "output_type": "stream",
     "text": [
      "La lista actual es: [111, 1, 1]\n",
      "El tamanio de la lista es 3\n"
     ]
    }
   ],
   "source": [
    "del numbers[-2]\n",
    "print(f'La lista actual es: {numbers}')\n",
    "print(f'El tamanio de la lista es {len(numbers)}')"
   ]
  },
  {
   "cell_type": "code",
   "execution_count": 16,
   "id": "a1ead132",
   "metadata": {},
   "outputs": [
    {
     "name": "stdout",
     "output_type": "stream",
     "text": [
      "La lista actual es: [1, 4, 6, 2, 11]\n",
      "El tamanio de la lista es 5\n"
     ]
    }
   ],
   "source": [
    "lista_prueba = [1,2,4,6,2,11]\n",
    "#Remove > elimina o remueve la primera coincidencia que se le indica\n",
    "lista_prueba.remove(2)\n",
    "\n",
    "print(f'La lista actual es: {lista_prueba}')\n",
    "print(f'El tamanio de la lista es {len(lista_prueba)}')"
   ]
  },
  {
   "cell_type": "code",
   "execution_count": 27,
   "id": "70e0a3e6",
   "metadata": {},
   "outputs": [],
   "source": [
    "lista_prueba = [1, 2, 4, 6, 2, 11, 2]"
   ]
  },
  {
   "cell_type": "code",
   "execution_count": 22,
   "id": "244316b0",
   "metadata": {},
   "outputs": [],
   "source": [
    "def eliminar (valor):\n",
    "    for i in lista_prueba:\n",
    "        if lista_prueba[i] ==valor:\n",
    "            del lista_prueba[i]"
   ]
  },
  {
   "cell_type": "code",
   "execution_count": null,
   "id": "f92926e7",
   "metadata": {},
   "outputs": [],
   "source": [
    "def eliminar (valor):\n",
    "#instruccion for que recibe un elemento\n",
    "    for indice, elemento in enumerate(lista_prueba):\n",
    "        if elemento == valor:\n",
    "            del lista_prueba[indice]"
   ]
  },
  {
   "cell_type": "code",
   "execution_count": 29,
   "id": "00bc2a40",
   "metadata": {},
   "outputs": [
    {
     "name": "stdout",
     "output_type": "stream",
     "text": [
      "[1, 4, 6, 11]\n"
     ]
    }
   ],
   "source": [
    "eliminar(2)\n",
    "print(lista_prueba)"
   ]
  },
  {
   "cell_type": "code",
   "execution_count": 30,
   "id": "bf160cfa",
   "metadata": {},
   "outputs": [
    {
     "name": "stdout",
     "output_type": "stream",
     "text": [
      "Lista Actual [1, 4, 6, 11]\n",
      "Lista Despues de eliminar[1, 4, 6, 11]\n"
     ]
    }
   ],
   "source": [
    "print(f'Lista Actual {lista_prueba}')\n",
    "eliminar(2)\n",
    "print(f'Lista Despues de eliminar{lista_prueba}')"
   ]
  },
  {
   "cell_type": "code",
   "execution_count": null,
   "id": "f7f43af8",
   "metadata": {},
   "outputs": [],
   "source": [
    "### inidices negativos son legales\n",
    "` Un elemento con inidce igual a -1 es el ultimo en la lista`"
   ]
  },
  {
   "cell_type": "code",
   "execution_count": 31,
   "id": "b9516cb9",
   "metadata": {},
   "outputs": [
    {
     "name": "stdout",
     "output_type": "stream",
     "text": [
      "El ultimo valor de la lista es: 1\n"
     ]
    }
   ],
   "source": [
    "numbers_2 = [111,7, 2, 1]\n",
    "print(f'El ultimo valor de la lista es: {numbers_2[-1]}')"
   ]
  },
  {
   "cell_type": "code",
   "execution_count": 32,
   "id": "f9d404e8",
   "metadata": {},
   "outputs": [
    {
     "name": "stdout",
     "output_type": "stream",
     "text": [
      "El ultimo valor de la lista es: 7\n"
     ]
    }
   ],
   "source": [
    "numbers_2 = [111, 7, 2, 1]\n",
    "print(f'El ultimo valor de la lista es: {numbers_2[-3]}')"
   ]
  },
  {
   "cell_type": "markdown",
   "id": "f14a57a4",
   "metadata": {},
   "source": [
    "# EJERCICIO"
   ]
  },
  {
   "cell_type": "markdown",
   "id": "0588e291",
   "metadata": {},
   "source": [
    "Paso 1: escribe una línea de código que solicite al usuario\n",
    "\n",
    "# reemplazar el número de en medio con un número entero ingresado por el usuario.\n",
    "\n",
    "# Paso 2: escribe aquí una línea de código que elimine el último elemento de la lista.\n",
    "\n",
    "# Paso 3: escribe aquí una línea de código que imprima la longitud de la lista existente.\n",
    "\n",
    "print(hat_list)"
   ]
  },
  {
   "cell_type": "markdown",
   "id": "d43877f8",
   "metadata": {},
   "source": [
    "## AGREGADO ELEMENTOS A UNA LISTA: append() e insert()\n",
    "\n",
    "Un nueveo elemento puede ser añadido al final de la lista existente:\n",
    "\n",
    "`list`.appened(value)\n",
    "\n",
    "Todos dos argumento\n",
    "\n",
    "- el primero muestra la ubicación requerida del elemento a insertar; nota: todos los elementos existentes que ocupan ubicaciones a la derecha del nuevo elemento (incluido el que está en la posición indicada) se desplazan a la derecha, para hacer espacio para el nuevo elemento;\n",
    "-  el segundo es el elemento a insertar."
   ]
  },
  {
   "cell_type": "code",
   "execution_count": 35,
   "id": "1902624d",
   "metadata": {},
   "outputs": [
    {
     "name": "stdout",
     "output_type": "stream",
     "text": [
      "La lista de la lista es: [123, 8, 4, 1]\n",
      "El tamanio de la lista es: 4\n",
      "La lista de la lista de agregar al final es: [123, 8, 4, 1, 4]\n",
      "El tamanio de la lista es: 5\n"
     ]
    }
   ],
   "source": [
    "numbers_3 = [123, 8, 4, 1]\n",
    "print(f'La lista de la lista es: {(numbers_3)}')\n",
    "print(f'El tamanio de la lista es: {len(numbers_3)}')\n",
    "\n",
    "#Agregar un valor al final de la lista con el metodo append\n",
    "numbers_3.append(4)\n",
    "print(f'La lista de la lista de agregar al final es: {(numbers_3)}')\n",
    "print(f'El tamanio de la lista es: {len(numbers_3)}')"
   ]
  },
  {
   "cell_type": "code",
   "execution_count": 36,
   "id": "79e4bac1",
   "metadata": {},
   "outputs": [],
   "source": [
    "def agregarAlfinal (valor):\n",
    "    numbers_3[-1] =valor"
   ]
  },
  {
   "cell_type": "code",
   "execution_count": 37,
   "id": "78fe7374",
   "metadata": {},
   "outputs": [
    {
     "name": "stdout",
     "output_type": "stream",
     "text": [
      "La lista de la lista de agregar al final es: [123, 8, 4, 1, 11]\n",
      "El tamanio de la lista es: 5\n"
     ]
    }
   ],
   "source": [
    "agregarAlfinal(11)\n",
    "print(f'La lista de la lista de agregar al final es: {(numbers_3)}')\n",
    "print(f'El tamanio de la lista es: {len(numbers_3)}')"
   ]
  },
  {
   "cell_type": "code",
   "execution_count": null,
   "id": "9733ff77",
   "metadata": {},
   "outputs": [
    {
     "name": "stdout",
     "output_type": "stream",
     "text": [
      "La lista actual es: [123, 8, 4, 1, 11]\n",
      "El tamanio de la lista es: 5\n"
     ]
    }
   ],
   "source": [
    "# METODO INSERT\n",
    "print(f'La lista actual es: {numbers_3}')\n",
    "print(f'El tamanio de la lista es: {len(numbers_3)}')\n",
    "\n",
    "numbers_3.insert(0, 222)"
   ]
  },
  {
   "cell_type": "code",
   "execution_count": 41,
   "id": "094f26a9",
   "metadata": {},
   "outputs": [],
   "source": [
    "def llenar_lista_append ( valor ):\n",
    "    my_list = [] #crea una lista vacia\n",
    "\n",
    "    for i in range(valor):\n",
    "        my_list.append(i+1)\n",
    "\n",
    "    return my_list"
   ]
  },
  {
   "cell_type": "code",
   "execution_count": 40,
   "id": "d528bd63",
   "metadata": {},
   "outputs": [],
   "source": [
    "def imprimir_lista (lista):\n",
    "    print(f'La lista es: {lista}')"
   ]
  },
  {
   "cell_type": "code",
   "execution_count": 43,
   "id": "bc4d43ef",
   "metadata": {},
   "outputs": [
    {
     "name": "stdout",
     "output_type": "stream",
     "text": [
      "La lista es: [1, 2, 3, 4, 5, 6, 7, 8, 9, 10]\n"
     ]
    }
   ],
   "source": [
    "lista = llenar_lista_append(10)\n",
    "imprimir_lista(lista)"
   ]
  },
  {
   "cell_type": "code",
   "execution_count": 44,
   "id": "29032b38",
   "metadata": {},
   "outputs": [
    {
     "name": "stdout",
     "output_type": "stream",
     "text": [
      "[5, 4, 3, 2, 1]\n"
     ]
    }
   ],
   "source": [
    "my_list = []\n",
    "\n",
    "for i in range (5):\n",
    "    my_list.insert(0, i+1)\n",
    "\n",
    "print(my_list)"
   ]
  },
  {
   "cell_type": "code",
   "execution_count": 45,
   "id": "3e7eaa15",
   "metadata": {},
   "outputs": [
    {
     "name": "stdout",
     "output_type": "stream",
     "text": [
      "10\n",
      "1\n",
      "8\n",
      "3\n",
      "5\n"
     ]
    }
   ],
   "source": [
    "my_list = [10, 1, 8, 3, 5]\n",
    "\n",
    "for i in my_list:\n",
    "    print(i)"
   ]
  },
  {
   "cell_type": "code",
   "execution_count": 47,
   "id": "c9587618",
   "metadata": {},
   "outputs": [
    {
     "name": "stdout",
     "output_type": "stream",
     "text": [
      "La suma de los valores de la lista es 27\n"
     ]
    }
   ],
   "source": [
    "total = 0\n",
    "for i in my_list:\n",
    "    total+=i\n",
    "\n",
    "print(f'La suma de los valores de la lista es {total}')"
   ]
  },
  {
   "cell_type": "code",
   "execution_count": 51,
   "id": "9beae189",
   "metadata": {},
   "outputs": [],
   "source": [
    "def guardar_calificaciones(numero):\n",
    "    lista_calificaciones = []\n",
    "    i = 1\n",
    "\n",
    "    while i <= numero:\n",
    "        calificacion = float(input(f'Solicita la calificación {i}'))\n",
    "        lista_calificaciones.append(calificacion)\n",
    "        i += 1\n",
    "\n",
    "    return lista_calificaciones"
   ]
  },
  {
   "cell_type": "code",
   "execution_count": 49,
   "id": "5b14dad2",
   "metadata": {},
   "outputs": [],
   "source": [
    "def guardar_calificaciones_2(numero):\n",
    "    lista_calificaciones = []\n",
    "    i = 1\n",
    "\n",
    "    for i in range(numero):\n",
    "        calificacion = float(input(f'Solicita la calificación [ {i+1} ]'))\n",
    "        lista_calificaciones.append(calificacion)\n",
    "\n",
    "    return lista_calificaciones\n"
   ]
  },
  {
   "cell_type": "code",
   "execution_count": 52,
   "id": "8eeb84d9",
   "metadata": {},
   "outputs": [
    {
     "name": "stdout",
     "output_type": "stream",
     "text": [
      "[7.8, 4.5, 9.0]\n"
     ]
    }
   ],
   "source": [
    "\n",
    "lista = guardar_calificaciones_2(3)\n",
    "print(lista)\n"
   ]
  }
 ],
 "metadata": {
  "kernelspec": {
   "display_name": "base",
   "language": "python",
   "name": "python3"
  },
  "language_info": {
   "codemirror_mode": {
    "name": "ipython",
    "version": 3
   },
   "file_extension": ".py",
   "mimetype": "text/x-python",
   "name": "python",
   "nbconvert_exporter": "python",
   "pygments_lexer": "ipython3",
   "version": "3.12.8"
  }
 },
 "nbformat": 4,
 "nbformat_minor": 5
}
