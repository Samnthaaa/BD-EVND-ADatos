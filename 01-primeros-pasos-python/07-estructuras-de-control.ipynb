{
 "cells": [
  {
   "cell_type": "markdown",
   "id": "98ce55d5",
   "metadata": {},
   "source": [
    "## Estructuras de control\n",
    "\n",
    "### Objetivo:\n",
    "    - Conocer las estructuras de control como funcionany para que sirven\n",
    "\n",
    "\n",
    "    ---\n",
    "\n",
    "### Desarrollo\n",
    "    Queremos darle a nuestro programa la capacidad de tomar decisiones.Esto puede haerse utilizando una `sentecia if` utiliza una comparacion para obtener un boolean. Si el booleano es `True`, el bloque de la sentencia se ejecuta.Si el booleano es False, nos saltamos a lo que sigue despues del bloque.\n",
    "\n",
    " "
   ]
  },
  {
   "cell_type": "code",
   "execution_count": 1,
   "id": "c139b182",
   "metadata": {},
   "outputs": [
    {
     "name": "stdout",
     "output_type": "stream",
     "text": [
      "El bloque se ha ejecutando\n"
     ]
    }
   ],
   "source": [
    "var_1 = 4\n",
    "var_2 = 5\n",
    "\n",
    "if var_1 < var_2:\n",
    "        print(\"El bloque se ha ejecutando\")"
   ]
  },
  {
   "cell_type": "code",
   "execution_count": null,
   "id": "e9f8f722",
   "metadata": {},
   "outputs": [
    {
     "name": "stdout",
     "output_type": "stream",
     "text": [
      "El numero 6 es menor que el nuemero 9\n",
      "El bloque se ha ejecutado\n"
     ]
    }
   ],
   "source": [
    "var_1 = int(input(\"Introduce el valor\"))\n",
    "var_2 = int(input(\"Introduce el valor\"))\n",
    "\n",
    "if var_1 < var_2:\n",
    "\n",
    "    print(f\"El numero {var_1} es menor que el nuemero {var_2}\")\n",
    "\n",
    "    print(\"El bloque se ha ejecutado\")\n"
   ]
  },
  {
   "cell_type": "code",
   "execution_count": 12,
   "id": "0bc4d87f",
   "metadata": {},
   "outputs": [],
   "source": [
    "# funcion de solicita un valor\n",
    "\n",
    "def solicitar ():\n",
    "        return int(input(\"Introduce el valor\"))"
   ]
  },
  {
   "cell_type": "code",
   "execution_count": 13,
   "id": "59ce8279",
   "metadata": {},
   "outputs": [],
   "source": [
    "def comparar (valor_uno, valor_dos):\n",
    "    if valor_uno < valor_dos:\n",
    "             print(f\"El numero {var_1} es menor que el nuemero {var_2}\")"
   ]
  },
  {
   "cell_type": "code",
   "execution_count": 14,
   "id": "c009394c",
   "metadata": {},
   "outputs": [
    {
     "name": "stdout",
     "output_type": "stream",
     "text": [
      "El numero 1 es menor que el nuemero 4\n"
     ]
    }
   ],
   "source": [
    "# Ejecucion de la funciones\n",
    "\n",
    "var_1 = solicitar()\n",
    "var_2 = solicitar()\n",
    "\n",
    "comparar(var_1, var_2)"
   ]
  },
  {
   "cell_type": "markdown",
   "id": "1168a0ad",
   "metadata": {},
   "source": [
    "1. ***Desarrollar un programa que determine si un numero es positivo.**\n",
    "2. ***Desarrrollar un Programa que determine si puedes votar, la edad minima es 18.**\n",
    "3. ***Verrificar si un numero es par.**\n",
    "4. ***Realizar la simulacion de un Login, en el cual se debe verificar si la contrasela es correcta.**\n",
    "5. ***Realizar un programa que termine si un alumno esta aprovado, la califiacion minima es 7.**\n",
    "\n",
    "Todos los datos deben ser solicitados"
   ]
  },
  {
   "cell_type": "code",
   "execution_count": 15,
   "id": "601141c1",
   "metadata": {},
   "outputs": [
    {
     "name": "stdout",
     "output_type": "stream",
     "text": [
      "El número es positivo.\n"
     ]
    }
   ],
   "source": [
    "#Ejercicio 1\n",
    "\n",
    "numero = float(input(\"Ingresa un número: \"))\n",
    "\n",
    "if numero > 0:\n",
    "    print(\"El número es positivo.\")\n",
    "else:\n",
    "    print(\"El número no es positivo.\")\n",
    "\n"
   ]
  },
  {
   "cell_type": "code",
   "execution_count": 26,
   "id": "d7f0bda1",
   "metadata": {},
   "outputs": [
    {
     "name": "stdout",
     "output_type": "stream",
     "text": [
      "Puedes votar\n"
     ]
    }
   ],
   "source": [
    "#Ejercicio 2\n",
    "edad = solicitar()\n",
    "if edad > 18 <= 18:\n",
    "    print(\"Puedes votar\")\n",
    "else:\n",
    "    print(\"No puedes votar\")"
   ]
  },
  {
   "cell_type": "code",
   "execution_count": null,
   "id": "7afd76f2",
   "metadata": {},
   "outputs": [
    {
     "name": "stdout",
     "output_type": "stream",
     "text": [
      "El numero 6es par\n"
     ]
    }
   ],
   "source": [
    "#Ejercicio 3\n",
    "numero_1 = solicitar()\n",
    "if numero_1 % 2 == 0:\n",
    "        print(f'El numero {numero_1} es par')"
   ]
  },
  {
   "cell_type": "code",
   "execution_count": 4,
   "id": "a6da56bc",
   "metadata": {},
   "outputs": [
    {
     "name": "stdout",
     "output_type": "stream",
     "text": [
      "error...\n"
     ]
    }
   ],
   "source": [
    "#Ejercicio 4\n",
    "contrasena = 9646\n",
    "\n",
    "\n",
    "password = int(input('Introduce la contrasenia'))\n",
    "\n",
    "if password == contrasena:\n",
    "    print('tienes acceso total')\n",
    "else:\n",
    "    print('error...')"
   ]
  },
  {
   "cell_type": "code",
   "execution_count": 13,
   "id": "64bf3ceb",
   "metadata": {},
   "outputs": [
    {
     "name": "stdout",
     "output_type": "stream",
     "text": [
      "estas aprobado\n"
     ]
    }
   ],
   "source": [
    "#Ejercicio 5\n",
    "calif = solicitar()\n",
    "\n",
    "if(calif<=7):\n",
    "    print('estas aprobado')"
   ]
  },
  {
   "cell_type": "markdown",
   "id": "c2f20de1",
   "metadata": {},
   "source": [
    "### Operadores Logicos\n",
    "\n",
    "__________________________________________\n",
    "\n",
    "| A   | B   | A or B |\n",
    "|-----|-----|--------|\n",
    "| F   | F   | F      |\n",
    "| T   | F   | T      |\n",
    "| F   | T   | T      |\n",
    "| T   | T   | T      |\n",
    "\n",
    "### Operador and\n",
    "\n",
    "| A   | B   | A and B |\n",
    "|-----|-----|---------|\n",
    "| F   | F   | F       |\n",
    "| T   | F   | F       |\n",
    "| F   | T   | F       |\n",
    "| T   | T   | T       |\n",
    "\n",
    "### Operador not\n",
    "\n",
    "| A   | not A |\n",
    "|-----|--------|\n",
    "| F   | T      |\n",
    "| T   | F      |\n",
    "\n",
    "\n",
    "| A   | B   | A or B | not (A or B) = NOR |\n",
    "|-----|-----|--------|--------------------|\n",
    "| F   | F   | F      | T                  |\n",
    "| T   | F   | T      | F                  |\n",
    "| F   | T   | T      | F                  |\n",
    "| T   | T   | T      | F                  |"
   ]
  },
  {
   "cell_type": "code",
   "execution_count": 5,
   "id": "1165f495",
   "metadata": {},
   "outputs": [
    {
     "data": {
      "text/plain": [
       "True"
      ]
     },
     "execution_count": 5,
     "metadata": {},
     "output_type": "execute_result"
    }
   ],
   "source": [
    "resultado = 4>5 or 5==5\n",
    "resultado"
   ]
  },
  {
   "cell_type": "code",
   "execution_count": 6,
   "id": "826bf6ee",
   "metadata": {},
   "outputs": [],
   "source": [
    "resultado = 4>5 and 5==5"
   ]
  },
  {
   "cell_type": "code",
   "execution_count": 7,
   "id": "797d34ec",
   "metadata": {},
   "outputs": [
    {
     "data": {
      "text/plain": [
       "True"
      ]
     },
     "execution_count": 7,
     "metadata": {},
     "output_type": "execute_result"
    }
   ],
   "source": [
    "resultado = not(4>5 and 5==5)\n",
    "resultado"
   ]
  },
  {
   "cell_type": "code",
   "execution_count": 10,
   "id": "3cf8fbad",
   "metadata": {},
   "outputs": [
    {
     "data": {
      "text/plain": [
       "True"
      ]
     },
     "execution_count": 10,
     "metadata": {},
     "output_type": "execute_result"
    }
   ],
   "source": [
    "resultado = not(4>5 or 5!=5)\n",
    "resultado"
   ]
  },
  {
   "cell_type": "code",
   "execution_count": 11,
   "id": "b303d8cf",
   "metadata": {},
   "outputs": [],
   "source": [
    "x = 5\n",
    "y = 10\n",
    "resultado = x>=5 and y<=x"
   ]
  },
  {
   "cell_type": "markdown",
   "id": "55a54338",
   "metadata": {},
   "source": [
    "1. Verificar si un numero esta en el rango de 10 y 20\n",
    "2. Verificar si un usuario tiene acceso al charlys si tiene minimo 18 anios o tiene permiso especial.\n",
    "3. Verificar si un numero no es igual a cero\n",
    "4. Verficar si un valor esta fuera del rango de 0 y 30\n",
    "\n",
    "Hay veces que queremos tener una accion `default`, que queremos que suceda en caso de que la comparacion sea `false`. Para esto podemos usar una sentencia `else`.\n",
    "Piensalo como preguntarse a uno mismo: \"So meto mi mano a la bolsa y resulta que encuentro un billete de $50, me compro unos nachos; y si no hay nada, vere una pelicula con mi novio llorando de tristeza porque si\""
   ]
  },
  {
   "cell_type": "code",
   "execution_count": null,
   "id": "c80770e9",
   "metadata": {},
   "outputs": [
    {
     "ename": "IndentationError",
     "evalue": "expected an indented block after 'if' statement on line 4 (148531044.py, line 5)",
     "output_type": "error",
     "traceback": [
      "\u001b[1;36m  Cell \u001b[1;32mIn[4], line 5\u001b[1;36m\u001b[0m\n\u001b[1;33m    print('La condicion se cumplio')\u001b[0m\n\u001b[1;37m    ^\u001b[0m\n\u001b[1;31mIndentationError\u001b[0m\u001b[1;31m:\u001b[0m expected an indented block after 'if' statement on line 4\n"
     ]
    }
   ],
   "source": [
    "var_1 = 4\n",
    "var_2 = 5\n",
    "\n",
    "if var_1 > var_2:\n",
    "print('La condicion se cumplio')\n",
    "else:\n",
    "print('La condicion no se ha cumplido,' \\\n",
    "'' \\ 'por lo tanto yo me imprimi ')"
   ]
  },
  {
   "cell_type": "code",
   "execution_count": 8,
   "id": "3989481d",
   "metadata": {},
   "outputs": [
    {
     "ename": "IndentationError",
     "evalue": "expected an indented block after 'if' statement on line 7 (3610869986.py, line 8)",
     "output_type": "error",
     "traceback": [
      "\u001b[1;36m  Cell \u001b[1;32mIn[8], line 8\u001b[1;36m\u001b[0m\n\u001b[1;33m    print (f'El numero {number_1} es mayor al numero {number_2}')\u001b[0m\n\u001b[1;37m    ^\u001b[0m\n\u001b[1;31mIndentationError\u001b[0m\u001b[1;31m:\u001b[0m expected an indented block after 'if' statement on line 7\n"
     ]
    }
   ],
   "source": [
    "#encontrar el numero mas grande de \n",
    "\n",
    "number_1 = int(input('Introduce el numero 1'))\n",
    "number_2 = int(input('Introduce el numero 2'))\n",
    "\n",
    "#Elegir el numero mas grande\n",
    "if number_1 > number_2:\n",
    "print (f'El numero {number_1} es mayor al numero {number_2}')\n",
    "else:\n",
    " print(f'El numero {number_2} es mayor al numero {number_1}')"
   ]
  },
  {
   "cell_type": "code",
   "execution_count": 10,
   "id": "babe4430",
   "metadata": {},
   "outputs": [
    {
     "name": "stdout",
     "output_type": "stream",
     "text": [
      "El numero mayor es: 4\n"
     ]
    }
   ],
   "source": [
    "number_1 = int(input('Introduce el numero 1'))\n",
    "number_2 = int(input('Introduce el numero 2'))\n",
    "\n",
    "if number_1 > number_2:\n",
    "    numero_mayor = number_1\n",
    "else:\n",
    "    numero_mayor = number_2\n",
    "\n",
    "print(f'El numero mayor es: {numero_mayor}')"
   ]
  },
  {
   "cell_type": "markdown",
   "id": "60e4c26f",
   "metadata": {},
   "source": [
    "Si queremos que haya mas de dos opciones, podemos agregar opciones utilizando la sentencia `elif`"
   ]
  },
  {
   "cell_type": "code",
   "execution_count": 13,
   "id": "e04c3eac",
   "metadata": {},
   "outputs": [
    {
     "name": "stdout",
     "output_type": "stream",
     "text": [
      "EL 20 es igual al 20\n"
     ]
    }
   ],
   "source": [
    "var_1 = 20\n",
    "var_2 = 20\n",
    "\n",
    "if var_1 > var_2:\n",
    "    print(f'El {var_1} es mayor a {var_2}')\n",
    "elif var_2 > var_1:\n",
    "    print(f'El {var_2} es mayor {var_1}')\n",
    "else:\n",
    "    print(f'EL {var_1} es igual al {var_2}')"
   ]
  },
  {
   "cell_type": "markdown",
   "id": "485b7dc1",
   "metadata": {},
   "source": [
    "#### 1. Comparaciones numéricas\n",
    "\n",
    "Vamos a imaginar que estamos analizando un conjunto de datos que contiene las ventas anuales en pesos de unos vendedores que trabajan en nuestra empresa. Obtenemos el total de ventas anuales en pesos y lo tenemos asignado a la variable ventas_anuales_totales. Escribe una estructura de control que nos diga de cuánto va a ser el bono de nuestro empleado.\n",
    "\n",
    "Si las ventas son mayores a `$`1,000,000 el bono será de 20% del sueldo; si son entre `$`700,000 y `$`1,000,000 el bono será de 15% del sueldo; entre `$`400,000 y `$`700,000 el bono será de 10% del sueldo; entre `$`100,00 y 400,000 el bono será de 5% del sueldo; y debajo de `$`100,000 el bono será del 1% del sueldo.\n",
    "\n",
    "Escribe tu estructura de control y, por ahora (más adelante tendremos más herramientas para hacer esto más interesante) imprime una string que diga de cuánto va a ser el bono.\n",
    "\n",
    "> Reto opcional: Agrega una variable sueldo que sea el sueldo de tu empleado y agrégale el porcentaje de bono a esa variable dependiendo de la condición que se cumpla. Después hasta el final imprime una string interpolada que diga algo como \"Felicidades, tu sueldo es x; tu bono es de x; y el total de sueldo con el bono incluido es de x\". ¡Para que esto funcione también debes de agregar una variable donde guardes la cantidad del bono!\n"
   ]
  },
  {
   "cell_type": "code",
   "execution_count": null,
   "id": "13f7ddd2",
   "metadata": {},
   "outputs": [],
   "source": [
    "ventas_anuales_totales = 850000  \n",
    "sueldo = 50000  \n",
    "\n",
    "bono = 0\n",
    "\n",
    "if ventas_anuales_totales > 1000000:\n",
    "    bono = sueldo * 0.20\n",
    "elif 700000 < ventas_anuales_totales <= 1000000:\n",
    "    bono = sueldo * 0.15\n",
    "elif 400000 < ventas_anuales_totales <= 700000:\n",
    "    bono = sueldo * 0.10\n",
    "elif 100000 < ventas_anuales_totales <= 400000:\n",
    "    bono = sueldo * 0.05\n",
    "\n",
    "sueldo_total = sueldo + bono\n",
    "\n",
    "print(f\"Felicidades, tu sueldo es ${sueldo:,.2f}; tu bono es de ${bono:,.2f}; y el total de sueldo con el bono incluido es de ${sueldo_total:,.2f}.\")"
   ]
  },
  {
   "cell_type": "code",
   "execution_count": null,
   "id": "6d56b92c",
   "metadata": {},
   "outputs": [],
   "source": []
  },
  {
   "cell_type": "code",
   "execution_count": null,
   "id": "182eff77",
   "metadata": {},
   "outputs": [],
   "source": [
    "#Ejercicios\n",
    "\n",
    "numero = solicitar()\n",
    "\n",
    "if numero>=10 and numero<=20:\n",
    "    print('Dentro del Rango')"
   ]
  }
 ],
 "metadata": {
  "kernelspec": {
   "display_name": "base",
   "language": "python",
   "name": "python3"
  },
  "language_info": {
   "codemirror_mode": {
    "name": "ipython",
    "version": 3
   },
   "file_extension": ".py",
   "mimetype": "text/x-python",
   "name": "python",
   "nbconvert_exporter": "python",
   "pygments_lexer": "ipython3",
   "version": "3.12.8"
  }
 },
 "nbformat": 4,
 "nbformat_minor": 5
}
