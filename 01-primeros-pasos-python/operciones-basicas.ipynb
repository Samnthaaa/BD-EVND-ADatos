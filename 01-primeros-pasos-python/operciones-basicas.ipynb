{
 "cells": [
  {
   "cell_type": "markdown",
   "id": "657b1880",
   "metadata": {},
   "source": [
    "# Operaciones Basicas en Python"
   ]
  },
  {
   "cell_type": "markdown",
   "id": "6b3b1239",
   "metadata": {},
   "source": [
    "\n",
    "## Declaracion de Variables y Asignacion de Datos\n",
    "**Se describen los tipos de datos existentes en python y la forma de imprimirlos"
   ]
  },
  {
   "cell_type": "code",
   "execution_count": 1,
   "id": "57e679f3",
   "metadata": {},
   "outputs": [],
   "source": [
    "# Declaracion de Variables y Tipos\n",
    "a = 1    # Varible de Tipo int\n",
    "b = 2.3  # Variable como Flotaante\n",
    "c = True # Variable de tipo boolean\n",
    "d = False # Variable de tipo boolean\n",
    "e = \"Hola Negocios Digitales\""
   ]
  }
 ],
 "metadata": {
  "kernelspec": {
   "display_name": "Python 3",
   "language": "python",
   "name": "python3"
  },
  "language_info": {
   "codemirror_mode": {
    "name": "ipython",
    "version": 3
   },
   "file_extension": ".py",
   "mimetype": "text/x-python",
   "name": "python",
   "nbconvert_exporter": "python",
   "pygments_lexer": "ipython3",
   "version": "3.12.10"
  }
 },
 "nbformat": 4,
 "nbformat_minor": 5
}
