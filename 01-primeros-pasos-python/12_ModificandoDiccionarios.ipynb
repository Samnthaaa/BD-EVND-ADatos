{
 "cells": [
  {
   "cell_type": "code",
   "execution_count": null,
   "metadata": {},
   "outputs": [],
   "source": [
    "# Modificando Diccionarios"
   ]
  },
  {
   "attachments": {},
   "cell_type": "markdown",
   "metadata": {},
   "source": [
    "## 1.Objetos\n",
    "- Practicar los tres metodos basicos de modificacion de diccionarios: **Agregar datos, modificar datos y borrar llaves**\n",
    "\n",
    "## 2. Desarrollo\n",
    "\n",
    "Tenemos 3 maneras basicas de modificar diccionariios\n",
    "___\n"
   ]
  },
  {
   "attachments": {},
   "cell_type": "markdown",
   "metadata": {},
   "source": [
    "### Agreagar Datos\n",
    "\n",
    "para agregar un dato a un diccionario ya existente, basta con llamar la llave que queremos agregar y asiganr un valor"
   ]
  },
  {
   "attachments": {},
   "cell_type": "markdown",
   "metadata": {},
   "source": [
    "from pprint import ppint\n",
    "import pandas as pd"
   ]
  },
  {
   "cell_type": "code",
   "execution_count": null,
   "metadata": {},
   "outputs": [],
   "source": [
    "infor_de_contacto ={\n",
    "    'nombre': 'Maluma',\n",
    "    'tel': 5524893723,\n",
    "    'dir': {\n",
    "        'colonia': 'El 61',\n",
    "        'calle':'Pirineo',\n",
    "        'num':69,\n",
    "        'cp':42030\n",
    "    }\n",
    "}"
   ]
  },
  {
   "cell_type": "code",
   "execution_count": null,
   "metadata": {},
   "outputs": [],
   "source": [
    "pprint(infor_de_contacto)"
   ]
  },
  {
   "cell_type": "code",
   "execution_count": null,
   "metadata": {},
   "outputs": [],
   "source": [
    "infor_de_contacto['email'] = 'yanis@gmail.com'"
   ]
  },
  {
   "cell_type": "code",
   "execution_count": null,
   "metadata": {},
   "outputs": [],
   "source": [
    "pprint (infor_de_contacto)"
   ]
  },
  {
   "attachments": {},
   "cell_type": "markdown",
   "metadata": {},
   "source": [
    "## Modificar pares llave-valor existentes\n",
    "\n",
    " Para Modificar un par llave-valor ya existente, basta con reasiganr a una llave de nuestro diccionario el nuevo valor que queremos agregar. Por ejemplo, imaginamos que esta persona cambio de direccion"
   ]
  },
  {
   "cell_type": "code",
   "execution_count": null,
   "metadata": {},
   "outputs": [],
   "source": [
    "infor_de_contacto['dir'] = \n",
    "'colonia': 'Escandalo', \n",
    "'calle': 'Progreso',\n",
    "'num':189,\n",
    "'cp':'11800'\n",
    "\n",
    "}\n",
    "\n",
    "pprint(infor_de_contacto)"
   ]
  },
  {
   "cell_type": "code",
   "execution_count": 1,
   "metadata": {},
   "outputs": [
    {
     "ename": "NameError",
     "evalue": "name 'infor_de_contacto' is not defined",
     "output_type": "error",
     "traceback": [
      "\u001b[1;31m---------------------------------------------------------------------------\u001b[0m",
      "\u001b[1;31mNameError\u001b[0m                                 Traceback (most recent call last)",
      "Cell \u001b[1;32mIn[1], line 1\u001b[0m\n\u001b[1;32m----> 1\u001b[0m \u001b[43minfor_de_contacto\u001b[49m[\u001b[38;5;124m'\u001b[39m\u001b[38;5;124mdir\u001b[39m\u001b[38;5;124m'\u001b[39m][\u001b[38;5;124m'\u001b[39m\u001b[38;5;124mcolonia\u001b[39m\u001b[38;5;124m'\u001b[39m] \u001b[38;5;241m=\u001b[39m \u001b[38;5;124m'\u001b[39m\u001b[38;5;124mSalteSi Puedes\u001b[39m\u001b[38;5;124m'\u001b[39m\n",
      "\u001b[1;31mNameError\u001b[0m: name 'infor_de_contacto' is not defined"
     ]
    }
   ],
   "source": [
    "infor_de_contacto['dir']['colonia'] = 'SalteSi Puedes'"
   ]
  },
  {
   "attachments": {},
   "cell_type": "markdown",
   "metadata": {},
   "source": [
    "Podemos incluso modificar estructuras de datos dentro de nuestro diccionario.Por ejemplo(que tal si huno un error al agregar la neva dirreccion y ahora tenemos qu cambia solamente el numero:)"
   ]
  },
  {
   "cell_type": "code",
   "execution_count": 2,
   "metadata": {},
   "outputs": [
    {
     "ename": "NameError",
     "evalue": "name 'infor_de_contacto' is not defined",
     "output_type": "error",
     "traceback": [
      "\u001b[1;31m---------------------------------------------------------------------------\u001b[0m",
      "\u001b[1;31mNameError\u001b[0m                                 Traceback (most recent call last)",
      "Cell \u001b[1;32mIn[2], line 1\u001b[0m\n\u001b[1;32m----> 1\u001b[0m \u001b[43minfor_de_contacto\u001b[49m[\u001b[38;5;124m'\u001b[39m\u001b[38;5;124mdir\u001b[39m\u001b[38;5;124m'\u001b[39m][\u001b[38;5;124m'\u001b[39m\u001b[38;5;124mnum\u001b[39m\u001b[38;5;124m'\u001b[39m] \u001b[38;5;241m=\u001b[39m \u001b[38;5;241m666\u001b[39m\n\u001b[0;32m      2\u001b[0m \u001b[38;5;28mprint\u001b[39m(infor_de_contacto)\n",
      "\u001b[1;31mNameError\u001b[0m: name 'infor_de_contacto' is not defined"
     ]
    }
   ],
   "source": [
    "infor_de_contacto['dir']['num'] = 666\n",
    "print(infor_de_contacto)"
   ]
  },
  {
   "cell_type": "markdown",
   "metadata": {},
   "source": [
    "## Eliminando datos\n",
    "\n",
    "Para eliminar datos, se puede usar el metodo pop. Como se recordara, \n",
    "el nombre de este metodo es identico al metodo para eliminar elementos de una lista. La diferencia es que el metodo `pop` de las listas recibe indices como argumntos,\n",
    "el metodo por de direccionamiento recibe llaves\n"
   ]
  },
  {
   "cell_type": "code",
   "execution_count": 1,
   "metadata": {},
   "outputs": [
    {
     "ename": "NameError",
     "evalue": "name 'infor_de_contacto' is not defined",
     "output_type": "error",
     "traceback": [
      "\u001b[1;31m---------------------------------------------------------------------------\u001b[0m",
      "\u001b[1;31mNameError\u001b[0m                                 Traceback (most recent call last)",
      "Cell \u001b[1;32mIn[1], line 1\u001b[0m\n\u001b[1;32m----> 1\u001b[0m \u001b[43minfor_de_contacto\u001b[49m\u001b[38;5;241m.\u001b[39mpop(\u001b[38;5;124m'\u001b[39m\u001b[38;5;124mtel\u001b[39m\u001b[38;5;124m'\u001b[39m)\n\u001b[0;32m      2\u001b[0m pprint(infor_de_contacto)\n",
      "\u001b[1;31mNameError\u001b[0m: name 'infor_de_contacto' is not defined"
     ]
    }
   ],
   "source": [
    "infor_de_contacto.pop('tel')\n",
    "pprint(infor_de_contacto)"
   ]
  }
 ],
 "metadata": {
  "kernelspec": {
   "display_name": "base",
   "language": "python",
   "name": "python3"
  },
  "language_info": {
   "codemirror_mode": {
    "name": "ipython",
    "version": 3
   },
   "file_extension": ".py",
   "mimetype": "text/x-python",
   "name": "python",
   "nbconvert_exporter": "python",
   "pygments_lexer": "ipython3",
   "version": "3.12.8"
  },
  "orig_nbformat": 4
 },
 "nbformat": 4,
 "nbformat_minor": 2
}
