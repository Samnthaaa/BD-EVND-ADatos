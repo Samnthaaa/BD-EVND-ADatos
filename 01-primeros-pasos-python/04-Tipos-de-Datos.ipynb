{
 "cells": [
  {
   "cell_type": "markdown",
   "id": "e28ddda9",
   "metadata": {},
   "source": [
    "## TIPO DE DATOS\n",
    "\n",
    "### OBJETIVO:\n",
    "    -Hablar sobre los 4 tipos de datos basicos que tiene python\n",
    "\n",
    "    ----\n",
    "    \n",
    "    ### Desarrollo:"
   ]
  },
  {
   "cell_type": "code",
   "execution_count": null,
   "id": "fa3ccf0a",
   "metadata": {
    "vscode": {
     "languageId": "plaintext"
    }
   },
   "outputs": [],
   "source": [
    "##Este es un String\n",
    "var_string = \"Yo soy un String\"\n",
    "\n",
    "\n",
    "## Este es un Booleano\n",
    "\n",
    "var_bool = True\n",
    "print(var_bool)\n",
    "print(type(var_bool))\n",
    "print('\\n')\n",
    "\n",
    "##"
   ]
  }
 ],
 "metadata": {
  "language_info": {
   "name": "python"
  }
 },
 "nbformat": 4,
 "nbformat_minor": 5
}
