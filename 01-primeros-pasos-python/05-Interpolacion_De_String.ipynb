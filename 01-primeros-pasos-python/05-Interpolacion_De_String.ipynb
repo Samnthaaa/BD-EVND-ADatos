{
 "cells": [
  {
   "cell_type": "markdown",
   "id": "b4646912",
   "metadata": {},
   "source": [
    "## Interpolacion\n",
    "\n",
    "### Objetivos:\n",
    "\n",
    "    -Aprender a imprimir String\n",
    "    -Aprender a intepolar variables\n",
    "\n",
    "\n",
    "### Desarollo:\n",
    "\n",
    "Podemos hacer anotaciones de outputs de nuestro codigo de esta manera:"
   ]
  },
  {
   "cell_type": "code",
   "execution_count": 7,
   "id": "6e3f8aab",
   "metadata": {},
   "outputs": [],
   "source": [
    "var_1 = 15.3\n",
    "var_2 = 23.4"
   ]
  },
  {
   "cell_type": "markdown",
   "id": "c9292791",
   "metadata": {},
   "source": [
    "Pero a veces resulta necesario o deseable interpolar el valor de la variable dentro de dicho string. Para esto utilizamos las llamadas `f-strings`.El formato de una `f-strings` es el siguiente:\n",
    "`f\"Esto es texto {esto_es_una_variable} esto es mas texto\"`\n",
    "\n",
    "Escribiendo un a 'f' antes de las comillas le indicamos a python que lo que pongas dentro  de la sllaves ('{}') sera codigo de python. En este caso, una varibale asignada previamente.\n",
    "\n",
    "Ahora podemos hacer lo siguiente"
   ]
  },
  {
   "cell_type": "code",
   "execution_count": 8,
   "id": "ef972bc7",
   "metadata": {},
   "outputs": [
    {
     "name": "stdout",
     "output_type": "stream",
     "text": [
      "Suma de var_1 y var_2\n",
      "38.7\n"
     ]
    }
   ],
   "source": [
    "print (\"Suma de var_1 y var_2\")\n",
    "print( var_1 + var_2 )"
   ]
  },
  {
   "cell_type": "code",
   "execution_count": null,
   "id": "e140ffe6",
   "metadata": {},
   "outputs": [],
   "source": [
    "var_3 = 43\n",
    "var_4 = 24.3\n",
    "\n",
    "suma = var_3 + var_4\n",
    "\n",
    "print (f'La suma de {var_3} y {var_4} es: {suma}')"
   ]
  },
  {
   "cell_type": "code",
   "execution_count": 6,
   "id": "872e78df",
   "metadata": {},
   "outputs": [
    {
     "ename": "ValueError",
     "evalue": "could not convert string to float: ''",
     "output_type": "error",
     "traceback": [
      "\u001b[1;31m---------------------------------------------------------------------------\u001b[0m",
      "\u001b[1;31mValueError\u001b[0m                                Traceback (most recent call last)",
      "Cell \u001b[1;32mIn[6], line 2\u001b[0m\n\u001b[0;32m      1\u001b[0m nombre_programa \u001b[38;5;241m=\u001b[39m \u001b[38;5;28minput\u001b[39m(\u001b[38;5;124m'\u001b[39m\u001b[38;5;124mIntroduce el nombre del programa\u001b[39m\u001b[38;5;124m'\u001b[39m)\n\u001b[1;32m----> 2\u001b[0m var_3 \u001b[38;5;241m=\u001b[39m \u001b[38;5;28;43mfloat\u001b[39;49m\u001b[43m(\u001b[49m\u001b[38;5;28;43minput\u001b[39;49m\u001b[43m(\u001b[49m\u001b[38;5;124;43m'\u001b[39;49m\u001b[38;5;124;43mIntroduce el primer valor\u001b[39;49m\u001b[38;5;124;43m'\u001b[39;49m\u001b[43m)\u001b[49m\u001b[43m)\u001b[49m\n\u001b[0;32m      3\u001b[0m var_4 \u001b[38;5;241m=\u001b[39m \u001b[38;5;28mfloat\u001b[39m(\u001b[38;5;28minput\u001b[39m(\u001b[38;5;124m'\u001b[39m\u001b[38;5;124mIntroduce el segundo valor\u001b[39m\u001b[38;5;124m'\u001b[39m))\n\u001b[0;32m      5\u001b[0m suma \u001b[38;5;241m=\u001b[39m var_3 \u001b[38;5;241m+\u001b[39m var_4\n",
      "\u001b[1;31mValueError\u001b[0m: could not convert string to float: ''"
     ]
    }
   ],
   "source": [
    "nombre_programa = input('Introduce el nombre del programa')\n",
    "var_3 = float(input('Introduce el primer valor'))\n",
    "var_4 = float(input('Introduce el segundo valor'))\n",
    "\n",
    "suma = var_3 + var_4\n",
    "\n",
    "print(f'El nombre del programa es: {nombre_programa} y la suma de  {var_3} y {var_4} es: {suma}')"
   ]
  },
  {
   "cell_type": "code",
   "execution_count": null,
   "id": "25084fc9",
   "metadata": {},
   "outputs": [],
   "source": [
    "def sumar (numero_1, numero_2):\n",
    "    return numero_1 + numero_2"
   ]
  },
  {
   "cell_type": "code",
   "execution_count": 2,
   "id": "e8144b3f",
   "metadata": {},
   "outputs": [],
   "source": [
    "def solicitarValor ():\n",
    "    return float(input('Introduce el primer valor'))"
   ]
  },
  {
   "cell_type": "code",
   "execution_count": 3,
   "id": "9a1a363e",
   "metadata": {},
   "outputs": [
    {
     "ename": "ValueError",
     "evalue": "could not convert string to float: ''",
     "output_type": "error",
     "traceback": [
      "\u001b[1;31m---------------------------------------------------------------------------\u001b[0m",
      "\u001b[1;31mValueError\u001b[0m                                Traceback (most recent call last)",
      "Cell \u001b[1;32mIn[3], line 1\u001b[0m\n\u001b[1;32m----> 1\u001b[0m var_3 \u001b[38;5;241m=\u001b[39m \u001b[43msolicitarValor\u001b[49m\u001b[43m(\u001b[49m\u001b[43m)\u001b[49m\n\u001b[0;32m      2\u001b[0m var_4 \u001b[38;5;241m=\u001b[39m solicitarValor()\n\u001b[0;32m      4\u001b[0m suma \u001b[38;5;241m=\u001b[39m sumar(var_3, var_4)\n",
      "Cell \u001b[1;32mIn[2], line 2\u001b[0m, in \u001b[0;36msolicitarValor\u001b[1;34m()\u001b[0m\n\u001b[0;32m      1\u001b[0m \u001b[38;5;28;01mdef\u001b[39;00m\u001b[38;5;250m \u001b[39m\u001b[38;5;21msolicitarValor\u001b[39m ():\n\u001b[1;32m----> 2\u001b[0m     \u001b[38;5;28;01mreturn\u001b[39;00m \u001b[38;5;28;43mfloat\u001b[39;49m\u001b[43m(\u001b[49m\u001b[38;5;28;43minput\u001b[39;49m\u001b[43m(\u001b[49m\u001b[38;5;124;43m'\u001b[39;49m\u001b[38;5;124;43mIntroduce el primer valor\u001b[39;49m\u001b[38;5;124;43m'\u001b[39;49m\u001b[43m)\u001b[49m\u001b[43m)\u001b[49m\n",
      "\u001b[1;31mValueError\u001b[0m: could not convert string to float: ''"
     ]
    }
   ],
   "source": [
    "var_3 = solicitarValor()\n",
    "var_4 = solicitarValor()\n",
    "\n",
    "suma = sumar(var_3, var_4)\n",
    "\n",
    "print (suma)"
   ]
  }
 ],
 "metadata": {
  "kernelspec": {
   "display_name": "base",
   "language": "python",
   "name": "python3"
  },
  "language_info": {
   "codemirror_mode": {
    "name": "ipython",
    "version": 3
   },
   "file_extension": ".py",
   "mimetype": "text/x-python",
   "name": "python",
   "nbconvert_exporter": "python",
   "pygments_lexer": "ipython3",
   "version": "3.12.8"
  }
 },
 "nbformat": 4,
 "nbformat_minor": 5
}
