{
 "cells": [
  {
   "attachments": {},
   "cell_type": "markdown",
   "metadata": {},
   "source": [
    "# CREAR Y ACCESAR LOS DIRECCIONES\n",
    "\n",
    "## Objetivos\n",
    "- Aprender a crear diccionarios con pares llaves: valor\n",
    "- Aprender a accesar los valores guardados"
   ]
  },
  {
   "attachments": {},
   "cell_type": "markdown",
   "metadata": {},
   "source": [
    "## Desarrollo \n",
    "los diccionarios se definen usando ({})"
   ]
  },
  {
   "cell_type": "code",
   "execution_count": null,
   "metadata": {},
   "outputs": [],
   "source": [
    "diccionario_1 = {}"
   ]
  },
  {
   "attachments": {},
   "cell_type": "markdown",
   "metadata": {},
   "source": [
    "diccionario _1 ya es un diccionario. Solo que esta vacio.para incluir datos dentro de un diccionario, tenemos que agregar pares llave-valor dentro de las llaves({}), cada par de llave-valor se separa con una(;):\n"
   ]
  },
  {
   "cell_type": "code",
   "execution_count": null,
   "metadata": {},
   "outputs": [],
   "source": [
    "diccionario_2 = {\n",
    "\n",
    "\"llave_1\": \"valor_1\",\n",
    "\"llave_2\": \"valor_2\",\n",
    "\"llave_3\": \"valor_3\",\n",
    "\"llave_4\": \"valor_4\"\n",
    "}"
   ]
  },
  {
   "attachments": {},
   "cell_type": "markdown",
   "metadata": {},
   "source": [
    "Nuestras llaves pueden ser tanto `string` como `int`(pueden ser)"
   ]
  },
  {
   "cell_type": "code",
   "execution_count": null,
   "metadata": {},
   "outputs": [],
   "source": [
    "diccionario_3 = {\n",
    "    1: \"Uno\",\n",
    "    2: \"Dos\",\n",
    "    3: \"Tres\",\n",
    "    4: \"Cuatro\" \n",
    "}"
   ]
  },
  {
   "cell_type": "code",
   "execution_count": null,
   "metadata": {},
   "outputs": [],
   "source": [
    "diccionario_4 = {\n",
    "    'int: \"123\",\n",
    "    'float': 23.56,\n",
    "    'srtring': \"hola\",\n",
    "    'boolean': True\n",
    "    'lista': [1,2,3,4],\n",
    "    'diccionario': {\n",
    "        1: 'uno'\n",
    "        2: 'dos'\n",
    "    } \n",
    "}"
   ]
  },
  {
   "attachments": {},
   "cell_type": "markdown",
   "metadata": {},
   "source": [
    "Accede a un diccioanrio es tan facil como escribir el nombre del diccionario, agregar corchetes"
   ]
  },
  {
   "cell_type": "code",
   "execution_count": null,
   "metadata": {},
   "outputs": [],
   "source": [
    "print(diccionario_4 ['float'])\n",
    "print()"
   ]
  },
  {
   "cell_type": "code",
   "execution_count": 1,
   "metadata": {},
   "outputs": [
    {
     "ename": "NameError",
     "evalue": "name 'diccionario_4' is not defined",
     "output_type": "error",
     "traceback": [
      "\u001b[1;31m---------------------------------------------------------------------------\u001b[0m",
      "\u001b[1;31mNameError\u001b[0m                                 Traceback (most recent call last)",
      "Cell \u001b[1;32mIn[1], line 1\u001b[0m\n\u001b[1;32m----> 1\u001b[0m \u001b[38;5;28mprint\u001b[39m(\u001b[43mdiccionario_4\u001b[49m [\u001b[38;5;124m'\u001b[39m\u001b[38;5;124mstring\u001b[39m\u001b[38;5;124m'\u001b[39m])\n\u001b[0;32m      2\u001b[0m \u001b[38;5;28mprint\u001b[39m(diccionario_4 [\u001b[38;5;124m'\u001b[39m\u001b[38;5;124mboolean\u001b[39m\u001b[38;5;124m'\u001b[39m])\n\u001b[0;32m      3\u001b[0m \u001b[38;5;28mprint\u001b[39m(diccionario_4 [\u001b[38;5;124m'\u001b[39m\u001b[38;5;124mlista\u001b[39m\u001b[38;5;124m'\u001b[39m])\n",
      "\u001b[1;31mNameError\u001b[0m: name 'diccionario_4' is not defined"
     ]
    }
   ],
   "source": [
    "print(diccionario_4 ['string'])\n",
    "print(diccionario_4 ['boolean'])\n",
    "print(diccionario_4 ['lista'])\n",
    "print(diccionario_4 ['lista'][2])\n",
    "print(diccionario_4 ['diccionario'])\n"
   ]
  }
 ],
 "metadata": {
  "kernelspec": {
   "display_name": "base",
   "language": "python",
   "name": "python3"
  },
  "language_info": {
   "codemirror_mode": {
    "name": "ipython",
    "version": 3
   },
   "file_extension": ".py",
   "mimetype": "text/x-python",
   "name": "python",
   "nbconvert_exporter": "python",
   "pygments_lexer": "ipython3",
   "version": "3.12.8"
  },
  "orig_nbformat": 4
 },
 "nbformat": 4,
 "nbformat_minor": 2
}
