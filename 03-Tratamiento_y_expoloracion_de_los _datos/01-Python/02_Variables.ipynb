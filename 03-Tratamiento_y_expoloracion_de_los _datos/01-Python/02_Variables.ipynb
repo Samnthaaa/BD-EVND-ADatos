{
 "cells": [
  {
   "cell_type": "markdown",
   "id": "42e93e07",
   "metadata": {},
   "source": [
    "# Ejemplo2: Variables\n",
    "\n",
    "### Objetivos:\n",
    "\n",
    "- Entender cual es la sintaxis de la asignacion de variables en python\n",
    "\n",
    "-vAprender la convencion de nombramiento de variables"
   ]
  },
  {
   "cell_type": "markdown",
   "id": "b222600e",
   "metadata": {},
   "source": [
    "### 2.  Desarrrollo\n",
    "\n",
    "- Los siguientes nombres, son nombres posibles en Python:\n",
    "- var_1 \n",
    "- variable_2\n",
    "- variable_dos\n",
    "- variable_nueva_tres\n",
    "esta_es_una_varible_nueva"
   ]
  },
  {
   "cell_type": "markdown",
   "id": "3d8f20a7",
   "metadata": {},
   "source": [
    "Los siguientes son nombres invalidos para una variable en python:\n",
    "- 1_2\n",
    "- 1_variable\n",
    "- variableDos\n",
    "- EstaesunaVariable\n",
    "- Soy una variable"
   ]
  },
  {
   "cell_type": "code",
   "execution_count": 2,
   "id": "fb80cd95",
   "metadata": {},
   "outputs": [],
   "source": [
    "var_1 = 3\n",
    "var_2 = 6\n",
    "variable_3 = 10\n",
    "variable_nueva_4 =20"
   ]
  },
  {
   "cell_type": "markdown",
   "id": "b92edcad",
   "metadata": {},
   "source": [
    "Podemos accedera su contenido con tan solo escribir el nombre de la variable en una celda"
   ]
  },
  {
   "cell_type": "code",
   "execution_count": 4,
   "id": "b6a7093d",
   "metadata": {},
   "outputs": [
    {
     "data": {
      "text/plain": [
       "3"
      ]
     },
     "execution_count": 4,
     "metadata": {},
     "output_type": "execute_result"
    }
   ],
   "source": [
    "var_1"
   ]
  },
  {
   "cell_type": "code",
   "execution_count": 5,
   "id": "54dbee91",
   "metadata": {},
   "outputs": [
    {
     "data": {
      "text/plain": [
       "20"
      ]
     },
     "execution_count": 5,
     "metadata": {},
     "output_type": "execute_result"
    }
   ],
   "source": [
    "variable_nueva_4"
   ]
  },
  {
   "cell_type": "markdown",
   "id": "04834ff2",
   "metadata": {},
   "source": [
    "Si intento llamar una variable que no se ha asignado o no existe, JN va a lanzar un error"
   ]
  },
  {
   "cell_type": "code",
   "execution_count": 6,
   "id": "ae0b94da",
   "metadata": {},
   "outputs": [],
   "source": [
    "var_2 = 89"
   ]
  },
  {
   "cell_type": "code",
   "execution_count": 7,
   "id": "28093165",
   "metadata": {},
   "outputs": [
    {
     "data": {
      "text/plain": [
       "89"
      ]
     },
     "execution_count": 7,
     "metadata": {},
     "output_type": "execute_result"
    }
   ],
   "source": [
    "\n",
    "var_2"
   ]
  },
  {
   "cell_type": "markdown",
   "id": "cd8f478b",
   "metadata": {},
   "source": [
    "#Reto 1:Variables\n",
    "\n",
    "### 1.Objetivos:\n",
    "-Practicar convencion de Nombramiento y Asigancion de variables\n",
    "\n",
    "### 2.Desarrollo\n",
    "-Realizar la siguiente practica"
   ]
  },
  {
   "cell_type": "markdown",
   "id": "129859c8",
   "metadata": {},
   "source": [
    "# Asigna el numero 1234  una variable llamada variable locochona.\n",
    "variable_locochona = 12345\n",
    "# Asigna el numero 14.567 a la variable ver decimal.\n",
    "var_decimal = 14.567\n",
    "# Asignar un numero cualquiera a una variable que tenga 5 palabras en su nombre\n",
    "uno_dos_tres_cuatro_cinco = True\n",
    "# Asigna cualquier numero a una variable que incluye palabras y numeros en su nombre\n",
    "uno_dos_123 = 'Hola Locochon'"
   ]
  }
 ],
 "metadata": {
  "kernelspec": {
   "display_name": "base",
   "language": "python",
   "name": "python3"
  },
  "language_info": {
   "codemirror_mode": {
    "name": "ipython",
    "version": 3
   },
   "file_extension": ".py",
   "mimetype": "text/x-python",
   "name": "python",
   "nbconvert_exporter": "python",
   "pygments_lexer": "ipython3",
   "version": "3.12.8"
  }
 },
 "nbformat": 4,
 "nbformat_minor": 5
}
