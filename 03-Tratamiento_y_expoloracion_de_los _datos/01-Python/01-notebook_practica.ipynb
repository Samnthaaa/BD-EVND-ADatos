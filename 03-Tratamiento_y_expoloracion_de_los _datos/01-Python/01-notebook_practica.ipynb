{
 "cells": [
  {
   "cell_type": "code",
   "execution_count": null,
   "id": "37068275",
   "metadata": {},
   "outputs": [],
   "source": [
    "#mi primer python\n",
    "print('hola mundo')"
   ]
  },
  {
   "cell_type": "markdown",
   "id": "508a5ad9",
   "metadata": {},
   "source": [
    "#Esto es un notebook de practica\n",
    "\n",
    "---\n",
    "\n",
    "### 1.OBJETIVOS\n",
    "    -Repasar como funciona un jupyter notebook\n",
    "\n",
    "### 2.REQUISITOS\n",
    "    -Jupiter Notebook instalado\n",
    "\n",
    "---\n",
    "\n"
   ]
  },
  {
   "cell_type": "markdown",
   "id": "4dcd6ff4",
   "metadata": {},
   "source": [
    "En JN tenemos `modo comando` y `modo edicion`\n",
    "\n",
    "- El `modo edicion` sirve para editar celdas\n",
    "- El `modo comando` sirve para usar comandos en el JN"
   ]
  },
  {
   "cell_type": "markdown",
   "id": "70c4a52a",
   "metadata": {},
   "source": [
    "Esto es una celda de 'Markdawn'"
   ]
  },
  {
   "cell_type": "markdown",
   "id": "b9c309e7",
   "metadata": {},
   "source": [
    "# Esto es una celda de codigo\n",
    "# Y yo soy un comentrio"
   ]
  },
  {
   "cell_type": "markdown",
   "id": "447116e3",
   "metadata": {},
   "source": [
    "# Escribamos algo de codigo para recordar"
   ]
  },
  {
   "cell_type": "code",
   "execution_count": 2,
   "id": "afeb1aff",
   "metadata": {},
   "outputs": [
    {
     "data": {
      "text/plain": [
       "9"
      ]
     },
     "execution_count": 2,
     "metadata": {},
     "output_type": "execute_result"
    }
   ],
   "source": [
    "var_1 = 4\n",
    "var_2 = 5\n",
    "var_1 + var_2"
   ]
  },
  {
   "cell_type": "code",
   "execution_count": 4,
   "id": "5b6d585a",
   "metadata": {},
   "outputs": [
    {
     "name": "stdout",
     "output_type": "stream",
     "text": [
      "4 5\n"
     ]
    }
   ],
   "source": [
    "print (var_1, var_2)"
   ]
  },
  {
   "cell_type": "code",
   "execution_count": 6,
   "id": "90598077",
   "metadata": {},
   "outputs": [
    {
     "name": "stdout",
     "output_type": "stream",
     "text": [
      "4,5\n"
     ]
    }
   ],
   "source": [
    "print(str(var_1) + ','  + str(var_2))"
   ]
  },
  {
   "cell_type": "code",
   "execution_count": null,
   "id": "3280f037",
   "metadata": {},
   "outputs": [],
   "source": [
    "print (var_1 + var_2)"
   ]
  },
  {
   "cell_type": "code",
   "execution_count": 8,
   "id": "4d095e5d",
   "metadata": {},
   "outputs": [
    {
     "data": {
      "text/plain": [
       "15"
      ]
     },
     "execution_count": 8,
     "metadata": {},
     "output_type": "execute_result"
    }
   ],
   "source": [
    "var_1 = 10\n",
    "var_1 + var_2"
   ]
  }
 ],
 "metadata": {
  "kernelspec": {
   "display_name": "base",
   "language": "python",
   "name": "python3"
  },
  "language_info": {
   "codemirror_mode": {
    "name": "ipython",
    "version": 3
   },
   "file_extension": ".py",
   "mimetype": "text/x-python",
   "name": "python",
   "nbconvert_exporter": "python",
   "pygments_lexer": "ipython3",
   "version": "3.12.8"
  }
 },
 "nbformat": 4,
 "nbformat_minor": 5
}
